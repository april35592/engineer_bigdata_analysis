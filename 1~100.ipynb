{
 "cells": [
  {
   "cell_type": "markdown",
   "metadata": {},
   "source": [
    "## DataManim https://www.datamanim.com/"
   ]
  },
  {
   "cell_type": "code",
   "execution_count": 413,
   "metadata": {},
   "outputs": [],
   "source": [
    "# 01 Getting & Knowing Data\n",
    "import pandas as pd\n",
    "import numpy as np"
   ]
  },
  {
   "cell_type": "code",
   "execution_count": 414,
   "metadata": {},
   "outputs": [],
   "source": [
    "# Question 1\n",
    "url = 'https://raw.githubusercontent.com/Datamanim/pandas/main/lol.csv'\n",
    "df = pd.read_csv(url, sep='\\t')"
   ]
  },
  {
   "cell_type": "code",
   "execution_count": 415,
   "metadata": {},
   "outputs": [
    {
     "name": "stdout",
     "output_type": "stream",
     "text": [
      "       gameId   creationTime  gameDuration  seasonId  winner  firstBlood  \\\n",
      "0  3326086514  1504279457970          1949         9       1           2   \n",
      "1  3229566029  1497848803862          1851         9       1           1   \n",
      "2  3327363504  1504360103310          1493         9       1           2   \n",
      "3  3326856598  1504348503996          1758         9       1           1   \n",
      "4  3330080762  1504554410899          2094         9       1           2   \n",
      "\n",
      "   firstTower  firstInhibitor  firstBaron  firstDragon  ...  t2_towerKills  \\\n",
      "0           1               1           1            1  ...              5   \n",
      "1           1               1           0            1  ...              2   \n",
      "2           1               1           1            2  ...              2   \n",
      "3           1               1           1            1  ...              0   \n",
      "4           1               1           1            1  ...              3   \n",
      "\n",
      "   t2_inhibitorKills  t2_baronKills  t2_dragonKills  t2_riftHeraldKills  \\\n",
      "0                  0              0               1                   1   \n",
      "1                  0              0               0                   0   \n",
      "2                  0              0               1                   0   \n",
      "3                  0              0               0                   0   \n",
      "4                  0              0               1                   0   \n",
      "\n",
      "   t2_ban1  t2_ban2  t2_ban3  t2_ban4  t2_ban5  \n",
      "0      114       67       43       16       51  \n",
      "1       11       67      238       51      420  \n",
      "2      157      238      121       57       28  \n",
      "3      164       18      141       40       51  \n",
      "4       86       11      201      122       18  \n",
      "\n",
      "[5 rows x 61 columns]\n"
     ]
    }
   ],
   "source": [
    "# Question 2\n",
    "Ans2 = df.head(5)\n",
    "print(Ans2)"
   ]
  },
  {
   "cell_type": "code",
   "execution_count": 416,
   "metadata": {},
   "outputs": [
    {
     "name": "stdout",
     "output_type": "stream",
     "text": [
      "(51490, 61)\n",
      "행: 51490\n",
      "열: 61\n"
     ]
    }
   ],
   "source": [
    "# Question 3\n",
    "print(df.shape)\n",
    "print('행:',df.shape[0])\n",
    "print('열:',df.shape[1])"
   ]
  },
  {
   "cell_type": "code",
   "execution_count": 417,
   "metadata": {},
   "outputs": [
    {
     "name": "stdout",
     "output_type": "stream",
     "text": [
      "Index(['gameId', 'creationTime', 'gameDuration', 'seasonId', 'winner',\n",
      "       'firstBlood', 'firstTower', 'firstInhibitor', 'firstBaron',\n",
      "       'firstDragon', 'firstRiftHerald', 't1_champ1id', 't1_champ1_sum1',\n",
      "       't1_champ1_sum2', 't1_champ2id', 't1_champ2_sum1', 't1_champ2_sum2',\n",
      "       't1_champ3id', 't1_champ3_sum1', 't1_champ3_sum2', 't1_champ4id',\n",
      "       't1_champ4_sum1', 't1_champ4_sum2', 't1_champ5id', 't1_champ5_sum1',\n",
      "       't1_champ5_sum2', 't1_towerKills', 't1_inhibitorKills', 't1_baronKills',\n",
      "       't1_dragonKills', 't1_riftHeraldKills', 't1_ban1', 't1_ban2', 't1_ban3',\n",
      "       't1_ban4', 't1_ban5', 't2_champ1id', 't2_champ1_sum1', 't2_champ1_sum2',\n",
      "       't2_champ2id', 't2_champ2_sum1', 't2_champ2_sum2', 't2_champ3id',\n",
      "       't2_champ3_sum1', 't2_champ3_sum2', 't2_champ4id', 't2_champ4_sum1',\n",
      "       't2_champ4_sum2', 't2_champ5id', 't2_champ5_sum1', 't2_champ5_sum2',\n",
      "       't2_towerKills', 't2_inhibitorKills', 't2_baronKills', 't2_dragonKills',\n",
      "       't2_riftHeraldKills', 't2_ban1', 't2_ban2', 't2_ban3', 't2_ban4',\n",
      "       't2_ban5'],\n",
      "      dtype='object')\n"
     ]
    }
   ],
   "source": [
    "# Question 4\n",
    "Ans4 = df.columns\n",
    "print(Ans4)"
   ]
  },
  {
   "cell_type": "code",
   "execution_count": 418,
   "metadata": {},
   "outputs": [
    {
     "name": "stdout",
     "output_type": "stream",
     "text": [
      "firstBlood\n"
     ]
    }
   ],
   "source": [
    "# Question 5\n",
    "Ans5 = df.columns[5]\n",
    "print(Ans5)"
   ]
  },
  {
   "cell_type": "code",
   "execution_count": 419,
   "metadata": {},
   "outputs": [
    {
     "name": "stdout",
     "output_type": "stream",
     "text": [
      "int64\n",
      "int64\n"
     ]
    }
   ],
   "source": [
    "# Question 6\n",
    "Ans6 = df[df.columns[5]].dtype\n",
    "Ans6_1 = df.iloc[:,5].dtype\n",
    "print(Ans6)\n",
    "print(Ans6_1)"
   ]
  },
  {
   "cell_type": "code",
   "execution_count": 420,
   "metadata": {},
   "outputs": [
    {
     "name": "stdout",
     "output_type": "stream",
     "text": [
      "RangeIndex(start=0, stop=51490, step=1)\n"
     ]
    }
   ],
   "source": [
    "# Question 7\n",
    "Ans7 = df.index\n",
    "print(Ans7)"
   ]
  },
  {
   "cell_type": "code",
   "execution_count": 421,
   "metadata": {},
   "outputs": [
    {
     "name": "stdout",
     "output_type": "stream",
     "text": [
      "2\n"
     ]
    }
   ],
   "source": [
    "# Question 8\n",
    "Ans8 = df[df.columns[5]][2]\n",
    "print(Ans8)"
   ]
  },
  {
   "cell_type": "code",
   "execution_count": 422,
   "metadata": {},
   "outputs": [
    {
     "name": "stdout",
     "output_type": "stream",
     "text": [
      "2\n"
     ]
    }
   ],
   "source": [
    "# Question 8_1\n",
    "Ans8_1 = df.iloc[2,5]\n",
    "print(Ans8_1)"
   ]
  },
  {
   "cell_type": "code",
   "execution_count": 423,
   "metadata": {},
   "outputs": [],
   "source": [
    "# Question 9\n",
    "DataUrl = 'https://raw.githubusercontent.com/Datamanim/pandas/main/Jeju.csv'\n",
    "df2 = pd.read_csv(DataUrl, encoding='euc-kr')"
   ]
  },
  {
   "cell_type": "code",
   "execution_count": 424,
   "metadata": {},
   "outputs": [
    {
     "name": "stdout",
     "output_type": "stream",
     "text": [
      "         id          일자   시도명 읍면동명         거주인구       근무인구        방문인구  \\\n",
      "9618  32066  2020-04-30   제주시  도두동    28397.481   3144.895   84052.697   \n",
      "9619  32067  2020-04-30  서귀포시  안덕면   348037.846  29106.286  251129.660   \n",
      "9620  32068  2020-04-30   제주시   연동  1010643.372  65673.477  447622.068   \n",
      "\n",
      "           총 유동인구   평균 속도  평균 소요 시간  평균 기온  일강수량  평균 풍속  \n",
      "9618   115595.073  41.053    29.421   20.3   0.0    3.0  \n",
      "9619   628273.792  46.595    49.189   17.6   0.0    3.5  \n",
      "9620  1523938.917  40.863    27.765   14.1   0.0    4.8  \n"
     ]
    }
   ],
   "source": [
    "# Question 10\n",
    "Ans10 = df2.tail(3)\n",
    "print(Ans10)"
   ]
  },
  {
   "cell_type": "code",
   "execution_count": 425,
   "metadata": {},
   "outputs": [
    {
     "name": "stdout",
     "output_type": "stream",
     "text": [
      "         id         거주인구       근무인구        방문인구       총 유동인구   평균 속도  \\\n",
      "0     22448    32249.987   3418.266  102709.092   138377.345  39.556   \n",
      "1     22449   213500.997  10341.172  112692.789   336534.958  32.900   \n",
      "2     22450  1212382.218  96920.834  541194.481  1850497.533  29.538   \n",
      "3     22451    33991.653   6034.253   72155.919   112181.825  30.000   \n",
      "4     22452   155036.925   9403.969  150882.409   315323.303  41.583   \n",
      "...     ...          ...        ...         ...          ...     ...   \n",
      "9616  32064   228260.005  16891.732  152832.449   397984.186  44.514   \n",
      "9617  32065   459959.064  26007.122  249700.419   735666.605  48.609   \n",
      "9618  32066    28397.481   3144.895   84052.697   115595.073  41.053   \n",
      "9619  32067   348037.846  29106.286  251129.660   628273.792  46.595   \n",
      "9620  32068  1010643.372  65673.477  447622.068  1523938.917  40.863   \n",
      "\n",
      "      평균 소요 시간  평균 기온  일강수량  평균 풍속  \n",
      "0       29.167    5.0   0.0   2.50  \n",
      "1       30.900    5.0   0.0   2.50  \n",
      "2       35.692    2.9   0.0   2.40  \n",
      "3       23.500    2.9   0.0   2.40  \n",
      "4       14.375    5.1   0.0   2.30  \n",
      "...        ...    ...   ...    ...  \n",
      "9616    34.054   18.1   0.0   4.70  \n",
      "9617    61.377   18.0   0.0   4.35  \n",
      "9618    29.421   20.3   0.0   3.00  \n",
      "9619    49.189   17.6   0.0   3.50  \n",
      "9620    27.765   14.1   0.0   4.80  \n",
      "\n",
      "[9621 rows x 10 columns]\n"
     ]
    }
   ],
   "source": [
    "# Question 11\n",
    "Ans11 = df2.select_dtypes(include=[int, float])\n",
    "print(Ans11)"
   ]
  },
  {
   "cell_type": "code",
   "execution_count": 426,
   "metadata": {},
   "outputs": [
    {
     "name": "stdout",
     "output_type": "stream",
     "text": [
      "         id         거주인구       근무인구        방문인구       총 유동인구   평균 속도  \\\n",
      "0     22448    32249.987   3418.266  102709.092   138377.345  39.556   \n",
      "1     22449   213500.997  10341.172  112692.789   336534.958  32.900   \n",
      "2     22450  1212382.218  96920.834  541194.481  1850497.533  29.538   \n",
      "3     22451    33991.653   6034.253   72155.919   112181.825  30.000   \n",
      "4     22452   155036.925   9403.969  150882.409   315323.303  41.583   \n",
      "...     ...          ...        ...         ...          ...     ...   \n",
      "9616  32064   228260.005  16891.732  152832.449   397984.186  44.514   \n",
      "9617  32065   459959.064  26007.122  249700.419   735666.605  48.609   \n",
      "9618  32066    28397.481   3144.895   84052.697   115595.073  41.053   \n",
      "9619  32067   348037.846  29106.286  251129.660   628273.792  46.595   \n",
      "9620  32068  1010643.372  65673.477  447622.068  1523938.917  40.863   \n",
      "\n",
      "      평균 소요 시간  평균 기온  일강수량  평균 풍속  \n",
      "0       29.167    5.0   0.0   2.50  \n",
      "1       30.900    5.0   0.0   2.50  \n",
      "2       35.692    2.9   0.0   2.40  \n",
      "3       23.500    2.9   0.0   2.40  \n",
      "4       14.375    5.1   0.0   2.30  \n",
      "...        ...    ...   ...    ...  \n",
      "9616    34.054   18.1   0.0   4.70  \n",
      "9617    61.377   18.0   0.0   4.35  \n",
      "9618    29.421   20.3   0.0   3.00  \n",
      "9619    49.189   17.6   0.0   3.50  \n",
      "9620    27.765   14.1   0.0   4.80  \n",
      "\n",
      "[9621 rows x 10 columns]\n"
     ]
    }
   ],
   "source": [
    "# Question 11_1\n",
    "Ans11_1 = df2.select_dtypes(exclude=object)\n",
    "print(Ans11_1)"
   ]
  },
  {
   "cell_type": "code",
   "execution_count": 427,
   "metadata": {},
   "outputs": [
    {
     "name": "stdout",
     "output_type": "stream",
     "text": [
      "              일자   시도명  읍면동명\n",
      "0     2018-01-01   제주시   도두동\n",
      "1     2018-01-01   제주시   외도동\n",
      "2     2018-01-01   제주시  이도2동\n",
      "3     2018-01-01   제주시  일도1동\n",
      "4     2018-01-01  서귀포시   대천동\n",
      "...          ...   ...   ...\n",
      "9616  2020-04-30  서귀포시   표선면\n",
      "9617  2020-04-30   제주시   한림읍\n",
      "9618  2020-04-30   제주시   도두동\n",
      "9619  2020-04-30  서귀포시   안덕면\n",
      "9620  2020-04-30   제주시    연동\n",
      "\n",
      "[9621 rows x 3 columns]\n"
     ]
    }
   ],
   "source": [
    "# Question 12\n",
    "Ans12 = df2.select_dtypes(include=object)\n",
    "print(Ans12)"
   ]
  },
  {
   "cell_type": "code",
   "execution_count": 428,
   "metadata": {},
   "outputs": [
    {
     "name": "stdout",
     "output_type": "stream",
     "text": [
      "0\n"
     ]
    }
   ],
   "source": [
    "# Question 13\n",
    "Ans13 = df2.isnull().sum().sum()\n",
    "print(Ans13)"
   ]
  },
  {
   "cell_type": "code",
   "execution_count": 429,
   "metadata": {},
   "outputs": [
    {
     "name": "stdout",
     "output_type": "stream",
     "text": [
      "<class 'pandas.core.frame.DataFrame'>\n",
      "RangeIndex: 9621 entries, 0 to 9620\n",
      "Data columns (total 13 columns):\n",
      " #   Column    Non-Null Count  Dtype  \n",
      "---  ------    --------------  -----  \n",
      " 0   id        9621 non-null   int64  \n",
      " 1   일자        9621 non-null   object \n",
      " 2   시도명       9621 non-null   object \n",
      " 3   읍면동명      9621 non-null   object \n",
      " 4   거주인구      9621 non-null   float64\n",
      " 5   근무인구      9621 non-null   float64\n",
      " 6   방문인구      9621 non-null   float64\n",
      " 7   총 유동인구    9621 non-null   float64\n",
      " 8   평균 속도     9621 non-null   float64\n",
      " 9   평균 소요 시간  9621 non-null   float64\n",
      " 10  평균 기온     9621 non-null   float64\n",
      " 11  일강수량      9621 non-null   float64\n",
      " 12  평균 풍속     9621 non-null   float64\n",
      "dtypes: float64(9), int64(1), object(3)\n",
      "memory usage: 977.3+ KB\n"
     ]
    }
   ],
   "source": [
    "# Question 14\n",
    "df2.info()"
   ]
  },
  {
   "cell_type": "code",
   "execution_count": 430,
   "metadata": {},
   "outputs": [
    {
     "name": "stdout",
     "output_type": "stream",
     "text": [
      "                 id          거주인구           근무인구           방문인구        총 유동인구  \\\n",
      "count   9621.000000  9.621000e+03    9621.000000    9621.000000  9.621000e+03   \n",
      "mean   27258.000000  3.174315e+05   35471.201510  195889.561802  5.487922e+05   \n",
      "std     2777.487804  2.982079e+05   40381.214775  140706.090325  4.608802e+05   \n",
      "min    22448.000000  9.305552e+03    1407.936000   11538.322000  2.225181e+04   \n",
      "25%    24853.000000  9.539939e+04   12074.498000   99632.153000  2.216910e+05   \n",
      "50%    27258.000000  2.221105e+05   21960.928000  152805.335000  3.866935e+05   \n",
      "75%    29663.000000  4.106671e+05   40192.032000  236325.109000  6.406918e+05   \n",
      "max    32068.000000  1.364504e+06  263476.965000  723459.209000  2.066484e+06   \n",
      "\n",
      "             평균 속도     평균 소요 시간        평균 기온         일강수량        평균 풍속  \n",
      "count  9621.000000  9621.000000  9621.000000  9621.000000  9621.000000  \n",
      "mean     41.109084    37.215873    13.550828     6.972426     2.753171  \n",
      "std       8.758631    12.993786     7.745515    27.617260     1.498538  \n",
      "min      24.333000    12.667000    -9.600000     0.000000     0.000000  \n",
      "25%      34.250000    27.889000     7.600000     0.000000     1.700000  \n",
      "50%      39.640000    34.500000    13.400000     0.000000     2.400000  \n",
      "75%      49.105000    46.176000    19.700000     1.500000     3.400000  \n",
      "max     103.000000   172.200000    30.400000   587.500000    13.333000  \n"
     ]
    }
   ],
   "source": [
    "# Question 15\n",
    "Ans15 = df2.describe()\n",
    "print(Ans15)"
   ]
  },
  {
   "cell_type": "code",
   "execution_count": 431,
   "metadata": {},
   "outputs": [
    {
     "name": "stdout",
     "output_type": "stream",
     "text": [
      "0         32249.987\n",
      "1        213500.997\n",
      "2       1212382.218\n",
      "3         33991.653\n",
      "4        155036.925\n",
      "           ...     \n",
      "9616     228260.005\n",
      "9617     459959.064\n",
      "9618      28397.481\n",
      "9619     348037.846\n",
      "9620    1010643.372\n",
      "Name: 거주인구, Length: 9621, dtype: float64\n"
     ]
    }
   ],
   "source": [
    "# Question 16\n",
    "Ans16 = df2.loc[:,'거주인구']\n",
    "print(Ans16)"
   ]
  },
  {
   "cell_type": "code",
   "execution_count": 432,
   "metadata": {},
   "outputs": [
    {
     "name": "stdout",
     "output_type": "stream",
     "text": [
      "0         32249.987\n",
      "1        213500.997\n",
      "2       1212382.218\n",
      "3         33991.653\n",
      "4        155036.925\n",
      "           ...     \n",
      "9616     228260.005\n",
      "9617     459959.064\n",
      "9618      28397.481\n",
      "9619     348037.846\n",
      "9620    1010643.372\n",
      "Name: 거주인구, Length: 9621, dtype: float64\n"
     ]
    }
   ],
   "source": [
    "# Question 16_1\n",
    "Ans16 = df2['거주인구']\n",
    "print(Ans16)"
   ]
  },
  {
   "cell_type": "code",
   "execution_count": 433,
   "metadata": {},
   "outputs": [
    {
     "name": "stdout",
     "output_type": "stream",
     "text": [
      "14.854999999999997\n"
     ]
    }
   ],
   "source": [
    "# Question 17\n",
    "Ans17 = df2['평균 속도'].quantile(0.75) - df2['평균 속도'].quantile(0.25)\n",
    "print(Ans17)"
   ]
  },
  {
   "cell_type": "code",
   "execution_count": 434,
   "metadata": {},
   "outputs": [
    {
     "name": "stdout",
     "output_type": "stream",
     "text": [
      "41\n"
     ]
    }
   ],
   "source": [
    "# Question 18\n",
    "Ans18 = df2['읍면동명'].nunique()\n",
    "print(Ans18)"
   ]
  },
  {
   "cell_type": "code",
   "execution_count": 435,
   "metadata": {},
   "outputs": [
    {
     "name": "stdout",
     "output_type": "stream",
     "text": [
      "41\n"
     ]
    }
   ],
   "source": [
    "# Question 18_1\n",
    "Ans18_1 = []\n",
    "for value in df2['읍면동명'].values:\n",
    "    if value not in Ans18_1:\n",
    "        Ans18_1.append(value)\n",
    "print(len(Ans18_1))"
   ]
  },
  {
   "cell_type": "code",
   "execution_count": 436,
   "metadata": {},
   "outputs": [
    {
     "name": "stdout",
     "output_type": "stream",
     "text": [
      "['도두동' '외도동' '이도2동' '일도1동' '대천동' '서홍동' '한경면' '송산동' '조천읍' '일도2동' '영천동'\n",
      " '예래동' '대륜동' '삼도1동' '이호동' '건입동' '중앙동' '삼양동' '삼도2동' '이도1동' '남원읍' '대정읍'\n",
      " '정방동' '효돈동' '아라동' '한림읍' '구좌읍' '용담1동' '오라동' '화북동' '연동' '표선면' '중문동' '성산읍'\n",
      " '안덕면' '천지동' '노형동' '동홍동' '용담2동' '봉개동' '애월읍']\n"
     ]
    }
   ],
   "source": [
    "# Question 19\n",
    "Ans19 = df2['읍면동명'].unique()\n",
    "print(Ans19)"
   ]
  },
  {
   "cell_type": "code",
   "execution_count": 437,
   "metadata": {},
   "outputs": [],
   "source": [
    "# 02 Filtering & Sorting\n",
    "# Question 20\n",
    "DataUrl = 'https://raw.githubusercontent.com/Datamanim/pandas/main/chipo.csv'\n",
    "df3 = pd.read_csv(DataUrl)"
   ]
  },
  {
   "cell_type": "code",
   "execution_count": 438,
   "metadata": {},
   "outputs": [
    {
     "name": "stdout",
     "output_type": "stream",
     "text": [
      "     order_id  quantity          item_name  \\\n",
      "409       178         3       Chicken Bowl   \n",
      "445       193         3               Bowl   \n",
      "689       284         3  Canned Soft Drink   \n",
      "818       338         3      Bottled Water   \n",
      "850       350         3  Canned Soft Drink   \n",
      "\n",
      "                                    choice_description item_price  \n",
      "409  [[Fresh Tomato Salsa (Mild), Tomatillo-Green C...    $32.94   \n",
      "445  [Braised Carnitas, Pinto Beans, [Sour Cream, C...    $22.20   \n",
      "689                                        [Diet Coke]     $3.75   \n",
      "818                                                NaN     $3.27   \n",
      "850                                           [Sprite]     $3.75   \n"
     ]
    }
   ],
   "source": [
    "# Question 21\n",
    "Ans21 = df3.loc[df3['quantity']==3].head()\n",
    "print(Ans21)"
   ]
  },
  {
   "cell_type": "code",
   "execution_count": 439,
   "metadata": {},
   "outputs": [
    {
     "name": "stdout",
     "output_type": "stream",
     "text": [
      "     order_id  quantity          item_name  \\\n",
      "409       178         3       Chicken Bowl   \n",
      "445       193         3               Bowl   \n",
      "689       284         3  Canned Soft Drink   \n",
      "818       338         3      Bottled Water   \n",
      "850       350         3  Canned Soft Drink   \n",
      "\n",
      "                                    choice_description item_price  \n",
      "409  [[Fresh Tomato Salsa (Mild), Tomatillo-Green C...    $32.94   \n",
      "445  [Braised Carnitas, Pinto Beans, [Sour Cream, C...    $22.20   \n",
      "689                                        [Diet Coke]     $3.75   \n",
      "818                                                NaN     $3.27   \n",
      "850                                           [Sprite]     $3.75   \n"
     ]
    }
   ],
   "source": [
    "# Question 21_1 but loc를 쓰는 습관을 들여라\n",
    "Ans21_1 = df3[df3['quantity']==3].head()\n",
    "print(Ans21_1)"
   ]
  },
  {
   "cell_type": "code",
   "execution_count": 440,
   "metadata": {},
   "outputs": [
    {
     "name": "stdout",
     "output_type": "stream",
     "text": [
      "   order_id  quantity          item_name  \\\n",
      "0       178         3       Chicken Bowl   \n",
      "1       193         3               Bowl   \n",
      "2       284         3  Canned Soft Drink   \n",
      "3       338         3      Bottled Water   \n",
      "4       350         3  Canned Soft Drink   \n",
      "\n",
      "                                  choice_description item_price  \n",
      "0  [[Fresh Tomato Salsa (Mild), Tomatillo-Green C...    $32.94   \n",
      "1  [Braised Carnitas, Pinto Beans, [Sour Cream, C...    $22.20   \n",
      "2                                        [Diet Coke]     $3.75   \n",
      "3                                                NaN     $3.27   \n",
      "4                                           [Sprite]     $3.75   \n"
     ]
    }
   ],
   "source": [
    "# Question 22\n",
    "Ans22 = df3.loc[df3['quantity']==3].reset_index(drop=True).head()\n",
    "print(Ans22)"
   ]
  },
  {
   "cell_type": "code",
   "execution_count": 441,
   "metadata": {},
   "outputs": [
    {
     "name": "stdout",
     "output_type": "stream",
     "text": [
      "      quantity item_price\n",
      "0            1     $2.39 \n",
      "1            1     $3.39 \n",
      "2            1     $3.39 \n",
      "3            1     $2.39 \n",
      "4            2    $16.98 \n",
      "...        ...        ...\n",
      "4617         1    $11.75 \n",
      "4618         1    $11.75 \n",
      "4619         1    $11.25 \n",
      "4620         1     $8.75 \n",
      "4621         1     $8.75 \n",
      "\n",
      "[4622 rows x 2 columns]\n"
     ]
    }
   ],
   "source": [
    "# Question 23\n",
    "Ans23 = df3[['quantity', 'item_price']]\n",
    "print(Ans23)"
   ]
  },
  {
   "cell_type": "code",
   "execution_count": 442,
   "metadata": {},
   "outputs": [
    {
     "name": "stdout",
     "output_type": "stream",
     "text": [
      "      order_id  quantity                              item_name  \\\n",
      "0            1         1           Chips and Fresh Tomato Salsa   \n",
      "1            1         1                                   Izze   \n",
      "2            1         1                       Nantucket Nectar   \n",
      "3            1         1  Chips and Tomatillo-Green Chili Salsa   \n",
      "4            2         2                           Chicken Bowl   \n",
      "...        ...       ...                                    ...   \n",
      "4617      1833         1                          Steak Burrito   \n",
      "4618      1833         1                          Steak Burrito   \n",
      "4619      1834         1                     Chicken Salad Bowl   \n",
      "4620      1834         1                     Chicken Salad Bowl   \n",
      "4621      1834         1                     Chicken Salad Bowl   \n",
      "\n",
      "                                     choice_description item_price  new_price  \n",
      "0                                                   NaN     $2.39        2.39  \n",
      "1                                          [Clementine]     $3.39        3.39  \n",
      "2                                               [Apple]     $3.39        3.39  \n",
      "3                                                   NaN     $2.39        2.39  \n",
      "4     [Tomatillo-Red Chili Salsa (Hot), [Black Beans...    $16.98       16.98  \n",
      "...                                                 ...        ...        ...  \n",
      "4617  [Fresh Tomato Salsa, [Rice, Black Beans, Sour ...    $11.75       11.75  \n",
      "4618  [Fresh Tomato Salsa, [Rice, Sour Cream, Cheese...    $11.75       11.75  \n",
      "4619  [Fresh Tomato Salsa, [Fajita Vegetables, Pinto...    $11.25       11.25  \n",
      "4620  [Fresh Tomato Salsa, [Fajita Vegetables, Lettu...     $8.75        8.75  \n",
      "4621  [Fresh Tomato Salsa, [Fajita Vegetables, Pinto...     $8.75        8.75  \n",
      "\n",
      "[4622 rows x 6 columns]\n"
     ]
    }
   ],
   "source": [
    "# Question 24\n",
    "Ans24 = df3\n",
    "Ans24['new_price'] = Ans24['item_price'].str[1:].astype('float')\n",
    "print(Ans24)"
   ]
  },
  {
   "cell_type": "code",
   "execution_count": 443,
   "metadata": {},
   "outputs": [
    {
     "name": "stdout",
     "output_type": "stream",
     "text": [
      "      order_id  quantity                              item_name  \\\n",
      "0            1         1           Chips and Fresh Tomato Salsa   \n",
      "1            1         1                                   Izze   \n",
      "2            1         1                       Nantucket Nectar   \n",
      "3            1         1  Chips and Tomatillo-Green Chili Salsa   \n",
      "4            2         2                           Chicken Bowl   \n",
      "...        ...       ...                                    ...   \n",
      "4617      1833         1                          Steak Burrito   \n",
      "4618      1833         1                          Steak Burrito   \n",
      "4619      1834         1                     Chicken Salad Bowl   \n",
      "4620      1834         1                     Chicken Salad Bowl   \n",
      "4621      1834         1                     Chicken Salad Bowl   \n",
      "\n",
      "                                     choice_description item_price  new_price  \n",
      "0                                                   NaN     $2.39        2.39  \n",
      "1                                          [Clementine]     $3.39        3.39  \n",
      "2                                               [Apple]     $3.39        3.39  \n",
      "3                                                   NaN     $2.39        2.39  \n",
      "4     [Tomatillo-Red Chili Salsa (Hot), [Black Beans...    $16.98       16.98  \n",
      "...                                                 ...        ...        ...  \n",
      "4617  [Fresh Tomato Salsa, [Rice, Black Beans, Sour ...    $11.75       11.75  \n",
      "4618  [Fresh Tomato Salsa, [Rice, Sour Cream, Cheese...    $11.75       11.75  \n",
      "4619  [Fresh Tomato Salsa, [Fajita Vegetables, Pinto...    $11.25       11.25  \n",
      "4620  [Fresh Tomato Salsa, [Fajita Vegetables, Lettu...     $8.75        8.75  \n",
      "4621  [Fresh Tomato Salsa, [Fajita Vegetables, Pinto...     $8.75        8.75  \n",
      "\n",
      "[4622 rows x 6 columns]\n"
     ]
    }
   ],
   "source": [
    "# Question 24\n",
    "df3['new_price'] = df3['item_price'].str.replace('$','',regex=False).astype('float')\n",
    "print(df3)"
   ]
  },
  {
   "cell_type": "code",
   "execution_count": 444,
   "metadata": {},
   "outputs": [
    {
     "name": "stdout",
     "output_type": "stream",
     "text": [
      "1652\n"
     ]
    }
   ],
   "source": [
    "# Question 25\n",
    "Ans25 = len(df3.loc[df3['new_price']<=5])\n",
    "print(Ans25)"
   ]
  },
  {
   "cell_type": "code",
   "execution_count": 445,
   "metadata": {},
   "outputs": [
    {
     "name": "stdout",
     "output_type": "stream",
     "text": [
      "     order_id  quantity           item_name  \\\n",
      "0          20         1  Chicken Salad Bowl   \n",
      "1          60         2  Chicken Salad Bowl   \n",
      "2          94         2  Chicken Salad Bowl   \n",
      "3         111         1  Chicken Salad Bowl   \n",
      "4         137         2  Chicken Salad Bowl   \n",
      "..        ...       ...                 ...   \n",
      "105      1813         2  Chicken Salad Bowl   \n",
      "106      1822         1  Chicken Salad Bowl   \n",
      "107      1834         1  Chicken Salad Bowl   \n",
      "108      1834         1  Chicken Salad Bowl   \n",
      "109      1834         1  Chicken Salad Bowl   \n",
      "\n",
      "                                    choice_description item_price  new_price  \n",
      "0    [Fresh Tomato Salsa, [Fajita Vegetables, Pinto...     $8.75        8.75  \n",
      "1    [Tomatillo Green Chili Salsa, [Sour Cream, Che...    $22.50       22.50  \n",
      "2    [Fresh Tomato Salsa, [Fajita Vegetables, Pinto...    $22.50       22.50  \n",
      "3    [Fresh Tomato Salsa, [Fajita Vegetables, Rice,...     $8.75        8.75  \n",
      "4              [Fresh Tomato Salsa, Fajita Vegetables]    $17.50       17.50  \n",
      "..                                                 ...        ...        ...  \n",
      "105  [Fresh Tomato Salsa, [Fajita Vegetables, Pinto...    $17.50       17.50  \n",
      "106  [Fresh Tomato Salsa, [Black Beans, Cheese, Gua...    $11.25       11.25  \n",
      "107  [Fresh Tomato Salsa, [Fajita Vegetables, Pinto...    $11.25       11.25  \n",
      "108  [Fresh Tomato Salsa, [Fajita Vegetables, Lettu...     $8.75        8.75  \n",
      "109  [Fresh Tomato Salsa, [Fajita Vegetables, Pinto...     $8.75        8.75  \n",
      "\n",
      "[110 rows x 6 columns]\n"
     ]
    }
   ],
   "source": [
    "# Question 26\n",
    "Ans26 = df3.loc[df3['item_name']=='Chicken Salad Bowl'].reset_index(drop=True)\n",
    "print(Ans26)"
   ]
  },
  {
   "cell_type": "code",
   "execution_count": 446,
   "metadata": {},
   "outputs": [
    {
     "name": "stdout",
     "output_type": "stream",
     "text": [
      "      order_id  quantity           item_name  \\\n",
      "44          20         1  Chicken Salad Bowl   \n",
      "256        111         1  Chicken Salad Bowl   \n",
      "526        220         1  Chicken Salad Bowl   \n",
      "528        221         1  Chicken Salad Bowl   \n",
      "529        221         1  Chicken Salad Bowl   \n",
      "568        234         1  Chicken Salad Bowl   \n",
      "585        240         1  Chicken Salad Bowl   \n",
      "693        286         1  Chicken Salad Bowl   \n",
      "702        289         1  Chicken Salad Bowl   \n",
      "762        314         1  Chicken Salad Bowl   \n",
      "1109       458         1  Chicken Salad Bowl   \n",
      "1460       592         1  Chicken Salad Bowl   \n",
      "1471       598         1  Chicken Salad Bowl   \n",
      "1483       602         1  Chicken Salad Bowl   \n",
      "1547       628         1  Chicken Salad Bowl   \n",
      "1601       649         1  Chicken Salad Bowl   \n",
      "1621       654         1  Chicken Salad Bowl   \n",
      "1756       709         1  Chicken Salad Bowl   \n",
      "1977       798         1  Chicken Salad Bowl   \n",
      "2031       818         1  Chicken Salad Bowl   \n",
      "2113       850         1  Chicken Salad Bowl   \n",
      "2224       896         1  Chicken Salad Bowl   \n",
      "2314       926         1  Chicken Salad Bowl   \n",
      "2728      1083         1  Chicken Salad Bowl   \n",
      "2858      1136         1  Chicken Salad Bowl   \n",
      "2883      1145         1  Chicken Salad Bowl   \n",
      "2897      1152         1  Chicken Salad Bowl   \n",
      "2989      1189         1  Chicken Salad Bowl   \n",
      "3033      1206         1  Chicken Salad Bowl   \n",
      "3069      1222         1  Chicken Salad Bowl   \n",
      "3117      1243         1  Chicken Salad Bowl   \n",
      "3259      1305         1  Chicken Salad Bowl   \n",
      "3261      1305         1  Chicken Salad Bowl   \n",
      "3310      1327         1  Chicken Salad Bowl   \n",
      "3315      1329         1  Chicken Salad Bowl   \n",
      "3381      1357         1  Chicken Salad Bowl   \n",
      "3411      1368         1  Chicken Salad Bowl   \n",
      "3623      1450         1  Chicken Salad Bowl   \n",
      "3656      1461         1  Chicken Salad Bowl   \n",
      "3706      1483         1  Chicken Salad Bowl   \n",
      "3712      1483         1  Chicken Salad Bowl   \n",
      "3790      1517         1  Chicken Salad Bowl   \n",
      "3798      1521         1  Chicken Salad Bowl   \n",
      "3974      1592         1  Chicken Salad Bowl   \n",
      "3997      1601         1  Chicken Salad Bowl   \n",
      "4012      1606         1  Chicken Salad Bowl   \n",
      "4035      1615         1  Chicken Salad Bowl   \n",
      "4064      1627         1  Chicken Salad Bowl   \n",
      "4205      1679         1  Chicken Salad Bowl   \n",
      "4207      1679         1  Chicken Salad Bowl   \n",
      "4333      1730         1  Chicken Salad Bowl   \n",
      "4352      1738         1  Chicken Salad Bowl   \n",
      "4439      1769         1  Chicken Salad Bowl   \n",
      "4520      1797         1  Chicken Salad Bowl   \n",
      "4620      1834         1  Chicken Salad Bowl   \n",
      "4621      1834         1  Chicken Salad Bowl   \n",
      "\n",
      "                                     choice_description item_price  new_price  \n",
      "44    [Fresh Tomato Salsa, [Fajita Vegetables, Pinto...     $8.75        8.75  \n",
      "256   [Fresh Tomato Salsa, [Fajita Vegetables, Rice,...     $8.75        8.75  \n",
      "526   [Roasted Chili Corn Salsa, [Black Beans, Sour ...     $8.75        8.75  \n",
      "528   [Tomatillo Green Chili Salsa, [Fajita Vegetabl...     $8.75        8.75  \n",
      "529   [Tomatillo Green Chili Salsa, [Fajita Vegetabl...     $8.75        8.75  \n",
      "568             [Fresh Tomato Salsa, Fajita Vegetables]     $8.75        8.75  \n",
      "585             [Fresh Tomato Salsa, Fajita Vegetables]     $8.75        8.75  \n",
      "693   [Fresh Tomato Salsa, [Sour Cream, Cheese, Lett...     $8.75        8.75  \n",
      "702   [Tomatillo Red Chili Salsa, [Black Beans, Chee...     $8.75        8.75  \n",
      "762   [Fresh Tomato Salsa, [Fajita Vegetables, Lettu...     $8.75        8.75  \n",
      "1109  [Fresh Tomato Salsa, [Fajita Vegetables, Rice,...     $8.75        8.75  \n",
      "1460                      [Fresh Tomato Salsa, Lettuce]     $8.75        8.75  \n",
      "1471  [Roasted Chili Corn Salsa, [Fajita Vegetables,...     $8.75        8.75  \n",
      "1483  [Fresh Tomato Salsa, [Fajita Vegetables, Chees...     $8.75        8.75  \n",
      "1547  [Fresh Tomato Salsa, [Fajita Vegetables, Rice,...     $8.75        8.75  \n",
      "1601  [Roasted Chili Corn Salsa, [Fajita Vegetables,...     $8.75        8.75  \n",
      "1621  [Roasted Chili Corn Salsa, [Fajita Vegetables,...     $8.75        8.75  \n",
      "1756  [Fresh Tomato Salsa, [Fajita Vegetables, Sour ...     $8.75        8.75  \n",
      "1977  [Fresh Tomato Salsa, [Fajita Vegetables, Sour ...     $8.75        8.75  \n",
      "2031  [Roasted Chili Corn Salsa, [Rice, Black Beans,...     $8.75        8.75  \n",
      "2113  [Fresh Tomato Salsa, [Rice, Black Beans, Cheese]]     $8.75        8.75  \n",
      "2224  [Fresh Tomato Salsa, [Pinto Beans, Sour Cream,...     $8.75        8.75  \n",
      "2314     [Roasted Chili Corn Salsa, [Rice, Sour Cream]]     $8.75        8.75  \n",
      "2728      [Roasted Chili Corn Salsa, [Cheese, Lettuce]]     $8.75        8.75  \n",
      "2858  [Fresh Tomato Salsa, [Fajita Vegetables, Chees...     $8.75        8.75  \n",
      "2883  [Roasted Chili Corn Salsa, [Black Beans, Sour ...     $8.75        8.75  \n",
      "2897                 [Roasted Chili Corn Salsa, Cheese]     $8.75        8.75  \n",
      "2989  [Fresh Tomato Salsa, [Fajita Vegetables, Rice,...     $8.75        8.75  \n",
      "3033            [Fresh Tomato Salsa, [Cheese, Lettuce]]     $8.75        8.75  \n",
      "3069  [Fresh Tomato Salsa, [Fajita Vegetables, Black...     $8.75        8.75  \n",
      "3117  [Roasted Chili Corn Salsa, [Rice, Pinto Beans,...     $8.75        8.75  \n",
      "3259  [Fresh Tomato Salsa, [Fajita Vegetables, Pinto...     $8.75        8.75  \n",
      "3261  [Fresh Tomato Salsa, [Fajita Vegetables, Lettu...     $8.75        8.75  \n",
      "3310                               [Fresh Tomato Salsa]     $8.75        8.75  \n",
      "3315              [Fresh Tomato Salsa, [Rice, Lettuce]]     $8.75        8.75  \n",
      "3381            [Fresh Tomato Salsa, [Cheese, Lettuce]]     $8.75        8.75  \n",
      "3411       [Fresh Tomato Salsa, [Pinto Beans, Lettuce]]     $8.75        8.75  \n",
      "3623  [Roasted Chili Corn Salsa, [Rice, Pinto Beans,...     $8.75        8.75  \n",
      "3656  [Tomatillo Green Chili Salsa, [Fajita Vegetabl...     $8.75        8.75  \n",
      "3706  [Roasted Chili Corn Salsa, [Pinto Beans, Chees...     $8.75        8.75  \n",
      "3712  [Roasted Chili Corn Salsa, [Black Beans, Chees...     $8.75        8.75  \n",
      "3790  [Fresh Tomato Salsa, [Fajita Vegetables, Chees...     $8.75        8.75  \n",
      "3798  [Fresh Tomato Salsa, [Fajita Vegetables, Lettu...     $8.75        8.75  \n",
      "3974  [Fresh Tomato Salsa, [Rice, Pinto Beans, Lettu...     $8.75        8.75  \n",
      "3997  [Tomatillo Green Chili Salsa, [Fajita Vegetabl...     $8.75        8.75  \n",
      "4012                               [Fresh Tomato Salsa]     $8.75        8.75  \n",
      "4035  [Fresh Tomato Salsa, [Fajita Vegetables, Chees...     $8.75        8.75  \n",
      "4064  [Fresh Tomato Salsa, [Rice, Black Beans, Chees...     $8.75        8.75  \n",
      "4205  [Roasted Chili Corn Salsa, [Black Beans, Chees...     $8.75        8.75  \n",
      "4207  [Fresh Tomato Salsa, [Black Beans, Cheese, Sou...     $8.75        8.75  \n",
      "4333        [Tomatillo Red Chili Salsa, [Rice, Cheese]]     $8.75        8.75  \n",
      "4352  [Tomatillo Red Chili Salsa, [Rice, Fajita Vege...     $8.75        8.75  \n",
      "4439  [Fresh Tomato Salsa, [Rice, Black Beans, Chees...     $8.75        8.75  \n",
      "4520                      [Fresh Tomato Salsa, Lettuce]     $8.75        8.75  \n",
      "4620  [Fresh Tomato Salsa, [Fajita Vegetables, Lettu...     $8.75        8.75  \n",
      "4621  [Fresh Tomato Salsa, [Fajita Vegetables, Pinto...     $8.75        8.75  \n"
     ]
    }
   ],
   "source": [
    "# Question 27\n",
    "Ans27 = df3.loc[(df3['new_price']<=9) & (df3['item_name']==\"Chicken Salad Bowl\")]\n",
    "print(Ans27)"
   ]
  },
  {
   "cell_type": "code",
   "execution_count": 447,
   "metadata": {},
   "outputs": [
    {
     "name": "stdout",
     "output_type": "stream",
     "text": [
      "      order_id  quantity                     item_name  \\\n",
      "0          471         1                 Bottled Water   \n",
      "1          338         1                   Canned Soda   \n",
      "2         1575         1                   Canned Soda   \n",
      "3           47         1                   Canned Soda   \n",
      "4         1014         1                   Canned Soda   \n",
      "...        ...       ...                           ...   \n",
      "4617      1443         3                Veggie Burrito   \n",
      "4618      1443         4               Chicken Burrito   \n",
      "4619       511         4               Chicken Burrito   \n",
      "4620      1398         3                 Carnitas Bowl   \n",
      "4621      1443        15  Chips and Fresh Tomato Salsa   \n",
      "\n",
      "                                     choice_description item_price  new_price  \n",
      "0                                                   NaN     $1.09        1.09  \n",
      "1                                           [Coca Cola]     $1.09        1.09  \n",
      "2                                          [Dr. Pepper]     $1.09        1.09  \n",
      "3                                          [Dr. Pepper]     $1.09        1.09  \n",
      "4                                           [Coca Cola]     $1.09        1.09  \n",
      "...                                                 ...        ...        ...  \n",
      "4617  [Fresh Tomato Salsa, [Fajita Vegetables, Rice,...    $33.75       33.75  \n",
      "4618  [Fresh Tomato Salsa, [Rice, Black Beans, Chees...    $35.00       35.00  \n",
      "4619  [Fresh Tomato Salsa, [Fajita Vegetables, Rice,...    $35.00       35.00  \n",
      "4620  [Roasted Chili Corn Salsa, [Fajita Vegetables,...    $35.25       35.25  \n",
      "4621                                                NaN    $44.25       44.25  \n",
      "\n",
      "[4622 rows x 6 columns]\n"
     ]
    }
   ],
   "source": [
    "# Question 28\n",
    "Ans28 = df3.sort_values('new_price').reset_index(drop=True)\n",
    "print(Ans28)"
   ]
  },
  {
   "cell_type": "code",
   "execution_count": 448,
   "metadata": {},
   "outputs": [
    {
     "name": "stdout",
     "output_type": "stream",
     "text": [
      "      order_id  quantity                              item_name  \\\n",
      "0            1         1           Chips and Fresh Tomato Salsa   \n",
      "3            1         1  Chips and Tomatillo-Green Chili Salsa   \n",
      "6            3         1                          Side of Chips   \n",
      "10           5         1                    Chips and Guacamole   \n",
      "14           7         1                    Chips and Guacamole   \n",
      "...        ...       ...                                    ...   \n",
      "4596      1826         1                    Chips and Guacamole   \n",
      "4600      1827         1                    Chips and Guacamole   \n",
      "4605      1828         1                    Chips and Guacamole   \n",
      "4613      1831         1                                  Chips   \n",
      "4616      1832         1                    Chips and Guacamole   \n",
      "\n",
      "     choice_description item_price  new_price  \n",
      "0                   NaN     $2.39        2.39  \n",
      "3                   NaN     $2.39        2.39  \n",
      "6                   NaN     $1.69        1.69  \n",
      "10                  NaN     $4.45        4.45  \n",
      "14                  NaN     $4.45        4.45  \n",
      "...                 ...        ...        ...  \n",
      "4596                NaN     $4.45        4.45  \n",
      "4600                NaN     $4.45        4.45  \n",
      "4605                NaN     $4.45        4.45  \n",
      "4613                NaN     $2.15        2.15  \n",
      "4616                NaN     $4.45        4.45  \n",
      "\n",
      "[1084 rows x 6 columns]\n"
     ]
    }
   ],
   "source": [
    "# Question 29\n",
    "Ans29 = df3.loc[df3['item_name'].str.contains('Chips')]\n",
    "print(Ans29)"
   ]
  },
  {
   "cell_type": "code",
   "execution_count": 449,
   "metadata": {},
   "outputs": [
    {
     "name": "stdout",
     "output_type": "stream",
     "text": [
      "      order_id                              item_name item_price\n",
      "0            1           Chips and Fresh Tomato Salsa     $2.39 \n",
      "1            1                                   Izze     $3.39 \n",
      "2            1                       Nantucket Nectar     $3.39 \n",
      "3            1  Chips and Tomatillo-Green Chili Salsa     $2.39 \n",
      "4            2                           Chicken Bowl    $16.98 \n",
      "...        ...                                    ...        ...\n",
      "4617      1833                          Steak Burrito    $11.75 \n",
      "4618      1833                          Steak Burrito    $11.75 \n",
      "4619      1834                     Chicken Salad Bowl    $11.25 \n",
      "4620      1834                     Chicken Salad Bowl     $8.75 \n",
      "4621      1834                     Chicken Salad Bowl     $8.75 \n",
      "\n",
      "[4622 rows x 3 columns]\n"
     ]
    }
   ],
   "source": [
    "# Question 30\n",
    "Ans30 = df3.iloc[:,::2]\n",
    "#시작:끝:스텝, default값 0:-1:1(생략 가능)\n",
    "#홀수번째: df3.iloc[:,1::2]\n",
    "print(Ans30)"
   ]
  },
  {
   "cell_type": "code",
   "execution_count": 450,
   "metadata": {},
   "outputs": [
    {
     "name": "stdout",
     "output_type": "stream",
     "text": [
      "      order_id  quantity                     item_name  \\\n",
      "0         1443        15  Chips and Fresh Tomato Salsa   \n",
      "1         1398         3                 Carnitas Bowl   \n",
      "2          511         4               Chicken Burrito   \n",
      "3         1443         4               Chicken Burrito   \n",
      "4         1443         3                Veggie Burrito   \n",
      "...        ...       ...                           ...   \n",
      "4617      1578         1                   Canned Soda   \n",
      "4618      1162         1                 Bottled Water   \n",
      "4619       567         1                   Canned Soda   \n",
      "4620      1014         1                   Canned Soda   \n",
      "4621       591         1                   Canned Soda   \n",
      "\n",
      "                                     choice_description item_price  new_price  \n",
      "0                                                   NaN    $44.25       44.25  \n",
      "1     [Roasted Chili Corn Salsa, [Fajita Vegetables,...    $35.25       35.25  \n",
      "2     [Fresh Tomato Salsa, [Fajita Vegetables, Rice,...    $35.00       35.00  \n",
      "3     [Fresh Tomato Salsa, [Rice, Black Beans, Chees...    $35.00       35.00  \n",
      "4     [Fresh Tomato Salsa, [Fajita Vegetables, Rice,...    $33.75       33.75  \n",
      "...                                                 ...        ...        ...  \n",
      "4617                                  [Diet Dr. Pepper]     $1.09        1.09  \n",
      "4618                                                NaN     $1.09        1.09  \n",
      "4619                                        [Coca Cola]     $1.09        1.09  \n",
      "4620                                        [Coca Cola]     $1.09        1.09  \n",
      "4621                                           [Sprite]     $1.09        1.09  \n",
      "\n",
      "[4622 rows x 6 columns]\n"
     ]
    }
   ],
   "source": [
    "# Question 31\n",
    "Ans31 = df3.sort_values('new_price', ascending=False).reset_index(drop=True)\n",
    "print(Ans31)"
   ]
  },
  {
   "cell_type": "code",
   "execution_count": 451,
   "metadata": {},
   "outputs": [
    {
     "name": "stdout",
     "output_type": "stream",
     "text": [
      "      order_id  quantity    item_name  \\\n",
      "445        193         3         Bowl   \n",
      "664        276         1  Steak Salad   \n",
      "673        279         1         Bowl   \n",
      "752        311         1  Steak Salad   \n",
      "893        369         1  Steak Salad   \n",
      "3502      1406         1  Steak Salad   \n",
      "\n",
      "                                     choice_description item_price  new_price  \n",
      "445   [Braised Carnitas, Pinto Beans, [Sour Cream, C...    $22.20       22.20  \n",
      "664   [Tomatillo-Red Chili Salsa (Hot), [Black Beans...     $8.99        8.99  \n",
      "673   [Adobo-Marinated and Grilled Steak, [Sour Crea...     $7.40        7.40  \n",
      "752   [Tomatillo-Red Chili Salsa (Hot), [Black Beans...     $8.99        8.99  \n",
      "893   [Fresh Tomato Salsa (Mild), [Rice, Cheese, Sou...     $8.99        8.99  \n",
      "3502                        [[Lettuce, Fajita Veggies]]     $8.69        8.69  \n"
     ]
    }
   ],
   "source": [
    "# Question 32\n",
    "Ans32 = df3.loc[(df3['item_name']=='Steak Salad') | (df3['item_name']=='Bowl')]\n",
    "print(Ans32)"
   ]
  },
  {
   "cell_type": "code",
   "execution_count": 452,
   "metadata": {},
   "outputs": [
    {
     "name": "stdout",
     "output_type": "stream",
     "text": [
      "     order_id  quantity    item_name  \\\n",
      "445       193         3         Bowl   \n",
      "664       276         1  Steak Salad   \n",
      "\n",
      "                                    choice_description item_price  new_price  \n",
      "445  [Braised Carnitas, Pinto Beans, [Sour Cream, C...    $22.20       22.20  \n",
      "664  [Tomatillo-Red Chili Salsa (Hot), [Black Beans...     $8.99        8.99  \n"
     ]
    }
   ],
   "source": [
    "# Question 33\n",
    "Ans33 = df3.loc[(df3['item_name']=='Steak Salad') | (df3['item_name']=='Bowl')].drop_duplicates('item_name')\n",
    "print(Ans33)"
   ]
  },
  {
   "cell_type": "code",
   "execution_count": 453,
   "metadata": {},
   "outputs": [
    {
     "name": "stdout",
     "output_type": "stream",
     "text": [
      "      order_id  quantity    item_name  \\\n",
      "673        279         1         Bowl   \n",
      "3502      1406         1  Steak Salad   \n",
      "\n",
      "                                     choice_description item_price  new_price  \n",
      "673   [Adobo-Marinated and Grilled Steak, [Sour Crea...     $7.40        7.40  \n",
      "3502                        [[Lettuce, Fajita Veggies]]     $8.69        8.69  \n"
     ]
    }
   ],
   "source": [
    "# Question 34\n",
    "Ans34 = df3.loc[(df3['item_name']=='Steak Salad') | (df3['item_name']=='Bowl')].drop_duplicates('item_name',keep='last')\n",
    "print(Ans34)"
   ]
  },
  {
   "cell_type": "code",
   "execution_count": 454,
   "metadata": {},
   "outputs": [
    {
     "name": "stdout",
     "output_type": "stream",
     "text": [
      "7.464335785374297\n",
      "      order_id  quantity           item_name  \\\n",
      "4            2         2        Chicken Bowl   \n",
      "5            3         1        Chicken Bowl   \n",
      "7            4         1       Steak Burrito   \n",
      "8            4         1    Steak Soft Tacos   \n",
      "9            5         1       Steak Burrito   \n",
      "...        ...       ...                 ...   \n",
      "4617      1833         1       Steak Burrito   \n",
      "4618      1833         1       Steak Burrito   \n",
      "4619      1834         1  Chicken Salad Bowl   \n",
      "4620      1834         1  Chicken Salad Bowl   \n",
      "4621      1834         1  Chicken Salad Bowl   \n",
      "\n",
      "                                     choice_description item_price  new_price  \n",
      "4     [Tomatillo-Red Chili Salsa (Hot), [Black Beans...    $16.98       16.98  \n",
      "5     [Fresh Tomato Salsa (Mild), [Rice, Cheese, Sou...    $10.98       10.98  \n",
      "7     [Tomatillo Red Chili Salsa, [Fajita Vegetables...    $11.75       11.75  \n",
      "8     [Tomatillo Green Chili Salsa, [Pinto Beans, Ch...     $9.25        9.25  \n",
      "9     [Fresh Tomato Salsa, [Rice, Black Beans, Pinto...     $9.25        9.25  \n",
      "...                                                 ...        ...        ...  \n",
      "4617  [Fresh Tomato Salsa, [Rice, Black Beans, Sour ...    $11.75       11.75  \n",
      "4618  [Fresh Tomato Salsa, [Rice, Sour Cream, Cheese...    $11.75       11.75  \n",
      "4619  [Fresh Tomato Salsa, [Fajita Vegetables, Pinto...    $11.25       11.25  \n",
      "4620  [Fresh Tomato Salsa, [Fajita Vegetables, Lettu...     $8.75        8.75  \n",
      "4621  [Fresh Tomato Salsa, [Fajita Vegetables, Pinto...     $8.75        8.75  \n",
      "\n",
      "[2890 rows x 6 columns]\n"
     ]
    }
   ],
   "source": [
    "# Question 35\n",
    "print(df3['new_price'].mean())\n",
    "Ans35 = df3.loc[df3['new_price'] >= df3['new_price'].mean()]\n",
    "print(Ans35)"
   ]
  },
  {
   "cell_type": "code",
   "execution_count": 455,
   "metadata": {},
   "outputs": [
    {
     "name": "stdout",
     "output_type": "stream",
     "text": [
      "      order_id  quantity                              item_name  \\\n",
      "0            1         1           Chips and Fresh Tomato Salsa   \n",
      "1            1         1                            Fizzy Lizzy   \n",
      "2            1         1                       Nantucket Nectar   \n",
      "3            1         1  Chips and Tomatillo-Green Chili Salsa   \n",
      "4            2         2                           Chicken Bowl   \n",
      "...        ...       ...                                    ...   \n",
      "4617      1833         1                          Steak Burrito   \n",
      "4618      1833         1                          Steak Burrito   \n",
      "4619      1834         1                     Chicken Salad Bowl   \n",
      "4620      1834         1                     Chicken Salad Bowl   \n",
      "4621      1834         1                     Chicken Salad Bowl   \n",
      "\n",
      "                                     choice_description item_price  new_price  \n",
      "0                                                   NaN     $2.39        2.39  \n",
      "1                                          [Clementine]     $3.39        3.39  \n",
      "2                                               [Apple]     $3.39        3.39  \n",
      "3                                                   NaN     $2.39        2.39  \n",
      "4     [Tomatillo-Red Chili Salsa (Hot), [Black Beans...    $16.98       16.98  \n",
      "...                                                 ...        ...        ...  \n",
      "4617  [Fresh Tomato Salsa, [Rice, Black Beans, Sour ...    $11.75       11.75  \n",
      "4618  [Fresh Tomato Salsa, [Rice, Sour Cream, Cheese...    $11.75       11.75  \n",
      "4619  [Fresh Tomato Salsa, [Fajita Vegetables, Pinto...    $11.25       11.25  \n",
      "4620  [Fresh Tomato Salsa, [Fajita Vegetables, Lettu...     $8.75        8.75  \n",
      "4621  [Fresh Tomato Salsa, [Fajita Vegetables, Pinto...     $8.75        8.75  \n",
      "\n",
      "[4622 rows x 6 columns]\n"
     ]
    }
   ],
   "source": [
    "# Question 36\n",
    "df3.loc[df3['item_name']=='Izze', 'item_name'] = 'Fizzy Lizzy'\n",
    "print(df3)"
   ]
  },
  {
   "cell_type": "code",
   "execution_count": 456,
   "metadata": {},
   "outputs": [
    {
     "name": "stdout",
     "output_type": "stream",
     "text": [
      "1246\n"
     ]
    }
   ],
   "source": [
    "# Question 37\n",
    "Ans37 = df3['choice_description'].isnull().sum()\n",
    "print(Ans37)"
   ]
  },
  {
   "cell_type": "code",
   "execution_count": 457,
   "metadata": {},
   "outputs": [
    {
     "name": "stdout",
     "output_type": "stream",
     "text": [
      "      order_id  quantity                              item_name  \\\n",
      "0            1         1           Chips and Fresh Tomato Salsa   \n",
      "1            1         1                            Fizzy Lizzy   \n",
      "2            1         1                       Nantucket Nectar   \n",
      "3            1         1  Chips and Tomatillo-Green Chili Salsa   \n",
      "4            2         2                           Chicken Bowl   \n",
      "...        ...       ...                                    ...   \n",
      "4617      1833         1                          Steak Burrito   \n",
      "4618      1833         1                          Steak Burrito   \n",
      "4619      1834         1                     Chicken Salad Bowl   \n",
      "4620      1834         1                     Chicken Salad Bowl   \n",
      "4621      1834         1                     Chicken Salad Bowl   \n",
      "\n",
      "                                     choice_description item_price  new_price  \n",
      "0                                                NoData     $2.39        2.39  \n",
      "1                                          [Clementine]     $3.39        3.39  \n",
      "2                                               [Apple]     $3.39        3.39  \n",
      "3                                                NoData     $2.39        2.39  \n",
      "4     [Tomatillo-Red Chili Salsa (Hot), [Black Beans...    $16.98       16.98  \n",
      "...                                                 ...        ...        ...  \n",
      "4617  [Fresh Tomato Salsa, [Rice, Black Beans, Sour ...    $11.75       11.75  \n",
      "4618  [Fresh Tomato Salsa, [Rice, Sour Cream, Cheese...    $11.75       11.75  \n",
      "4619  [Fresh Tomato Salsa, [Fajita Vegetables, Pinto...    $11.25       11.25  \n",
      "4620  [Fresh Tomato Salsa, [Fajita Vegetables, Lettu...     $8.75        8.75  \n",
      "4621  [Fresh Tomato Salsa, [Fajita Vegetables, Pinto...     $8.75        8.75  \n",
      "\n",
      "[4622 rows x 6 columns]\n"
     ]
    }
   ],
   "source": [
    "# Question 38\n",
    "df3.loc[df3['choice_description'].isnull(),'choice_description'] = 'NoData'\n",
    "print(df3)"
   ]
  },
  {
   "cell_type": "code",
   "execution_count": 458,
   "metadata": {},
   "outputs": [
    {
     "name": "stdout",
     "output_type": "stream",
     "text": [
      "      order_id  quantity                              item_name  \\\n",
      "0            1         1           Chips and Fresh Tomato Salsa   \n",
      "1            1         1                            Fizzy Lizzy   \n",
      "2            1         1                       Nantucket Nectar   \n",
      "3            1         1  Chips and Tomatillo-Green Chili Salsa   \n",
      "4            2         2                           Chicken Bowl   \n",
      "...        ...       ...                                    ...   \n",
      "4617      1833         1                          Steak Burrito   \n",
      "4618      1833         1                          Steak Burrito   \n",
      "4619      1834         1                     Chicken Salad Bowl   \n",
      "4620      1834         1                     Chicken Salad Bowl   \n",
      "4621      1834         1                     Chicken Salad Bowl   \n",
      "\n",
      "                                     choice_description item_price  new_price  \n",
      "0                                                NoData     $2.39        2.39  \n",
      "1                                          [Clementine]     $3.39        3.39  \n",
      "2                                               [Apple]     $3.39        3.39  \n",
      "3                                                NoData     $2.39        2.39  \n",
      "4     [Tomatillo-Red Chili Salsa (Hot), [Black Beans...    $16.98       16.98  \n",
      "...                                                 ...        ...        ...  \n",
      "4617  [Fresh Tomato Salsa, [Rice, Black Beans, Sour ...    $11.75       11.75  \n",
      "4618  [Fresh Tomato Salsa, [Rice, Sour Cream, Cheese...    $11.75       11.75  \n",
      "4619  [Fresh Tomato Salsa, [Fajita Vegetables, Pinto...    $11.25       11.25  \n",
      "4620  [Fresh Tomato Salsa, [Fajita Vegetables, Lettu...     $8.75        8.75  \n",
      "4621  [Fresh Tomato Salsa, [Fajita Vegetables, Pinto...     $8.75        8.75  \n",
      "\n",
      "[4622 rows x 6 columns]\n"
     ]
    }
   ],
   "source": [
    "# Question 38_1\n",
    "df3.loc[:,'choice_description'] = df3['choice_description'].fillna('NoData')\n",
    "print(df3)"
   ]
  },
  {
   "cell_type": "code",
   "execution_count": 459,
   "metadata": {},
   "outputs": [
    {
     "name": "stdout",
     "output_type": "stream",
     "text": [
      "      order_id  quantity             item_name  \\\n",
      "4            2         2          Chicken Bowl   \n",
      "7            4         1         Steak Burrito   \n",
      "9            5         1         Steak Burrito   \n",
      "11           6         1  Chicken Crispy Tacos   \n",
      "12           6         1    Chicken Soft Tacos   \n",
      "...        ...       ...                   ...   \n",
      "4604      1828         1          Chicken Bowl   \n",
      "4608      1829         1        Veggie Burrito   \n",
      "4611      1830         1        Veggie Burrito   \n",
      "4612      1831         1         Carnitas Bowl   \n",
      "4617      1833         1         Steak Burrito   \n",
      "\n",
      "                                     choice_description item_price  new_price  \n",
      "4     [Tomatillo-Red Chili Salsa (Hot), [Black Beans...    $16.98       16.98  \n",
      "7     [Tomatillo Red Chili Salsa, [Fajita Vegetables...    $11.75       11.75  \n",
      "9     [Fresh Tomato Salsa, [Rice, Black Beans, Pinto...     $9.25        9.25  \n",
      "11    [Roasted Chili Corn Salsa, [Fajita Vegetables,...     $8.75        8.75  \n",
      "12    [Roasted Chili Corn Salsa, [Rice, Black Beans,...     $8.75        8.75  \n",
      "...                                                 ...        ...        ...  \n",
      "4604  [Fresh Tomato Salsa, [Rice, Black Beans, Chees...     $8.75        8.75  \n",
      "4608  [Tomatillo Red Chili Salsa, [Fajita Vegetables...    $11.25       11.25  \n",
      "4611  [Tomatillo Green Chili Salsa, [Rice, Fajita Ve...    $11.25       11.25  \n",
      "4612  [Fresh Tomato Salsa, [Fajita Vegetables, Rice,...     $9.25        9.25  \n",
      "4617  [Fresh Tomato Salsa, [Rice, Black Beans, Sour ...    $11.75       11.75  \n",
      "\n",
      "[1353 rows x 6 columns]\n"
     ]
    }
   ],
   "source": [
    "# Question 39\n",
    "Ans39 = df3.loc[df3['choice_description'].str.contains('Black')]\n",
    "print(Ans39)"
   ]
  },
  {
   "cell_type": "code",
   "execution_count": 460,
   "metadata": {},
   "outputs": [
    {
     "name": "stdout",
     "output_type": "stream",
     "text": [
      "3900\n"
     ]
    }
   ],
   "source": [
    "# Question 40\n",
    "Ans40 = len(df3.loc[~df3['choice_description'].str.contains('Vegetables')])\n",
    "print(Ans40)"
   ]
  },
  {
   "cell_type": "code",
   "execution_count": 461,
   "metadata": {},
   "outputs": [
    {
     "name": "stdout",
     "output_type": "stream",
     "text": [
      "      order_id  quantity         item_name         choice_description  \\\n",
      "2            1         1  Nantucket Nectar                    [Apple]   \n",
      "22          11         1  Nantucket Nectar       [Pomegranate Cherry]   \n",
      "105         46         1  Nantucket Nectar  [Pineapple Orange Banana]   \n",
      "173         77         1  Nantucket Nectar                    [Apple]   \n",
      "205         91         1  Nantucket Nectar             [Peach Orange]   \n",
      "436        189         1  Nantucket Nectar       [Pomegranate Cherry]   \n",
      "601        247         2  Nantucket Nectar  [Pineapple Orange Banana]   \n",
      "925        381         1  Nantucket Nectar       [Pomegranate Cherry]   \n",
      "1356       553         1  Nantucket Nectar       [Pomegranate Cherry]   \n",
      "1585       641         1  Nantucket Nectar             [Peach Orange]   \n",
      "1626       656         1  Nantucket Nectar  [Pineapple Orange Banana]   \n",
      "1706       690         1  Nantucket Nectar                    [Apple]   \n",
      "2162       872         1  Nantucket Nectar  [Pineapple Orange Banana]   \n",
      "2379       947         2  Nantucket Nectar             [Peach Orange]   \n",
      "2381       947         1  Nantucket Nectar                    [Apple]   \n",
      "2430       965         1  Nantucket Nectar       [Pomegranate Cherry]   \n",
      "2653      1053         1  Nantucket Nectar  [Pineapple Orange Banana]   \n",
      "2818      1118         1  Nantucket Nectar                    [Apple]   \n",
      "2838      1128         1  Nantucket Nectar             [Peach Orange]   \n",
      "2853      1133         1  Nantucket Nectar                    [Apple]   \n",
      "2949      1172         1  Nantucket Nectar             [Peach Orange]   \n",
      "3318      1330         1  Nantucket Nectar             [Peach Orange]   \n",
      "3368      1351         1  Nantucket Nectar  [Pineapple Orange Banana]   \n",
      "3570      1433         1  Nantucket Nectar  [Pineapple Orange Banana]   \n",
      "3845      1541         1  Nantucket Nectar             [Peach Orange]   \n",
      "4019      1609         1  Nantucket Nectar  [Pineapple Orange Banana]   \n",
      "4078      1632         1  Nantucket Nectar             [Peach Orange]   \n",
      "\n",
      "     item_price  new_price  \n",
      "2        $3.39        3.39  \n",
      "22       $3.39        3.39  \n",
      "105      $3.39        3.39  \n",
      "173      $3.39        3.39  \n",
      "205      $3.39        3.39  \n",
      "436      $3.39        3.39  \n",
      "601      $6.78        6.78  \n",
      "925      $3.39        3.39  \n",
      "1356     $3.39        3.39  \n",
      "1585     $3.39        3.39  \n",
      "1626     $3.39        3.39  \n",
      "1706     $3.39        3.39  \n",
      "2162     $3.39        3.39  \n",
      "2379     $6.78        6.78  \n",
      "2381     $3.39        3.39  \n",
      "2430     $3.39        3.39  \n",
      "2653     $3.39        3.39  \n",
      "2818     $3.39        3.39  \n",
      "2838     $3.39        3.39  \n",
      "2853     $3.39        3.39  \n",
      "2949     $3.39        3.39  \n",
      "3318     $3.39        3.39  \n",
      "3368     $3.39        3.39  \n",
      "3570     $3.39        3.39  \n",
      "3845     $3.39        3.39  \n",
      "4019     $3.39        3.39  \n",
      "4078     $3.39        3.39  \n"
     ]
    }
   ],
   "source": [
    "# Question 41\n",
    "Ans41 = df3.loc[df3['item_name'].str.startswith('N')]\n",
    "print(Ans41)"
   ]
  },
  {
   "cell_type": "code",
   "execution_count": 462,
   "metadata": {},
   "outputs": [
    {
     "name": "stdout",
     "output_type": "stream",
     "text": [
      "      order_id  quantity         item_name         choice_description  \\\n",
      "2            1         1  Nantucket Nectar                    [Apple]   \n",
      "22          11         1  Nantucket Nectar       [Pomegranate Cherry]   \n",
      "105         46         1  Nantucket Nectar  [Pineapple Orange Banana]   \n",
      "173         77         1  Nantucket Nectar                    [Apple]   \n",
      "205         91         1  Nantucket Nectar             [Peach Orange]   \n",
      "436        189         1  Nantucket Nectar       [Pomegranate Cherry]   \n",
      "601        247         2  Nantucket Nectar  [Pineapple Orange Banana]   \n",
      "925        381         1  Nantucket Nectar       [Pomegranate Cherry]   \n",
      "1356       553         1  Nantucket Nectar       [Pomegranate Cherry]   \n",
      "1585       641         1  Nantucket Nectar             [Peach Orange]   \n",
      "1626       656         1  Nantucket Nectar  [Pineapple Orange Banana]   \n",
      "1706       690         1  Nantucket Nectar                    [Apple]   \n",
      "2162       872         1  Nantucket Nectar  [Pineapple Orange Banana]   \n",
      "2379       947         2  Nantucket Nectar             [Peach Orange]   \n",
      "2381       947         1  Nantucket Nectar                    [Apple]   \n",
      "2430       965         1  Nantucket Nectar       [Pomegranate Cherry]   \n",
      "2653      1053         1  Nantucket Nectar  [Pineapple Orange Banana]   \n",
      "2818      1118         1  Nantucket Nectar                    [Apple]   \n",
      "2838      1128         1  Nantucket Nectar             [Peach Orange]   \n",
      "2853      1133         1  Nantucket Nectar                    [Apple]   \n",
      "2949      1172         1  Nantucket Nectar             [Peach Orange]   \n",
      "3318      1330         1  Nantucket Nectar             [Peach Orange]   \n",
      "3368      1351         1  Nantucket Nectar  [Pineapple Orange Banana]   \n",
      "3570      1433         1  Nantucket Nectar  [Pineapple Orange Banana]   \n",
      "3845      1541         1  Nantucket Nectar             [Peach Orange]   \n",
      "4019      1609         1  Nantucket Nectar  [Pineapple Orange Banana]   \n",
      "4078      1632         1  Nantucket Nectar             [Peach Orange]   \n",
      "\n",
      "     item_price  new_price  \n",
      "2        $3.39        3.39  \n",
      "22       $3.39        3.39  \n",
      "105      $3.39        3.39  \n",
      "173      $3.39        3.39  \n",
      "205      $3.39        3.39  \n",
      "436      $3.39        3.39  \n",
      "601      $6.78        6.78  \n",
      "925      $3.39        3.39  \n",
      "1356     $3.39        3.39  \n",
      "1585     $3.39        3.39  \n",
      "1626     $3.39        3.39  \n",
      "1706     $3.39        3.39  \n",
      "2162     $3.39        3.39  \n",
      "2379     $6.78        6.78  \n",
      "2381     $3.39        3.39  \n",
      "2430     $3.39        3.39  \n",
      "2653     $3.39        3.39  \n",
      "2818     $3.39        3.39  \n",
      "2838     $3.39        3.39  \n",
      "2853     $3.39        3.39  \n",
      "2949     $3.39        3.39  \n",
      "3318     $3.39        3.39  \n",
      "3368     $3.39        3.39  \n",
      "3570     $3.39        3.39  \n",
      "3845     $3.39        3.39  \n",
      "4019     $3.39        3.39  \n",
      "4078     $3.39        3.39  \n"
     ]
    }
   ],
   "source": [
    "# Question 41_1\n",
    "Ans41_1 = df3.loc[df3['item_name'].str[0]=='N']\n",
    "print(Ans41_1)"
   ]
  },
  {
   "cell_type": "code",
   "execution_count": 463,
   "metadata": {},
   "outputs": [
    {
     "name": "stdout",
     "output_type": "stream",
     "text": [
      "      order_id  quantity                              item_name  \\\n",
      "0            1         1           Chips and Fresh Tomato Salsa   \n",
      "2            1         1                       Nantucket Nectar   \n",
      "3            1         1  Chips and Tomatillo-Green Chili Salsa   \n",
      "8            4         1                       Steak Soft Tacos   \n",
      "10           5         1                    Chips and Guacamole   \n",
      "...        ...       ...                                    ...   \n",
      "4615      1832         1                     Chicken Soft Tacos   \n",
      "4616      1832         1                    Chips and Guacamole   \n",
      "4619      1834         1                     Chicken Salad Bowl   \n",
      "4620      1834         1                     Chicken Salad Bowl   \n",
      "4621      1834         1                     Chicken Salad Bowl   \n",
      "\n",
      "                                     choice_description item_price  new_price  \n",
      "0                                                NoData     $2.39        2.39  \n",
      "2                                               [Apple]     $3.39        3.39  \n",
      "3                                                NoData     $2.39        2.39  \n",
      "8     [Tomatillo Green Chili Salsa, [Pinto Beans, Ch...     $9.25        9.25  \n",
      "10                                               NoData     $4.45        4.45  \n",
      "...                                                 ...        ...        ...  \n",
      "4615   [Fresh Tomato Salsa, [Rice, Cheese, Sour Cream]]     $8.75        8.75  \n",
      "4616                                             NoData     $4.45        4.45  \n",
      "4619  [Fresh Tomato Salsa, [Fajita Vegetables, Pinto...    $11.25       11.25  \n",
      "4620  [Fresh Tomato Salsa, [Fajita Vegetables, Lettu...     $8.75        8.75  \n",
      "4621  [Fresh Tomato Salsa, [Fajita Vegetables, Pinto...     $8.75        8.75  \n",
      "\n",
      "[2373 rows x 6 columns]\n"
     ]
    }
   ],
   "source": [
    "# Question 42\n",
    "Ans42 = df3.loc[df3['item_name'].str.len()>=15]\n",
    "print(Ans42)"
   ]
  },
  {
   "cell_type": "code",
   "execution_count": 464,
   "metadata": {},
   "outputs": [
    {
     "name": "stdout",
     "output_type": "stream",
     "text": [
      "      order_id  quantity                              item_name  \\\n",
      "0            1         1           Chips and Fresh Tomato Salsa   \n",
      "1            1         1                            Fizzy Lizzy   \n",
      "2            1         1                       Nantucket Nectar   \n",
      "3            1         1  Chips and Tomatillo-Green Chili Salsa   \n",
      "4            2         2                           Chicken Bowl   \n",
      "...        ...       ...                                    ...   \n",
      "4610      1830         1                          Steak Burrito   \n",
      "4612      1831         1                          Carnitas Bowl   \n",
      "4616      1832         1                    Chips and Guacamole   \n",
      "4617      1833         1                          Steak Burrito   \n",
      "4618      1833         1                          Steak Burrito   \n",
      "\n",
      "                                     choice_description item_price  new_price  \n",
      "0                                                NoData     $2.39        2.39  \n",
      "1                                          [Clementine]     $3.39        3.39  \n",
      "2                                               [Apple]     $3.39        3.39  \n",
      "3                                                NoData     $2.39        2.39  \n",
      "4     [Tomatillo-Red Chili Salsa (Hot), [Black Beans...    $16.98       16.98  \n",
      "...                                                 ...        ...        ...  \n",
      "4610  [Fresh Tomato Salsa, [Rice, Sour Cream, Cheese...    $11.75       11.75  \n",
      "4612  [Fresh Tomato Salsa, [Fajita Vegetables, Rice,...     $9.25        9.25  \n",
      "4616                                             NoData     $4.45        4.45  \n",
      "4617  [Fresh Tomato Salsa, [Rice, Black Beans, Sour ...    $11.75       11.75  \n",
      "4618  [Fresh Tomato Salsa, [Rice, Sour Cream, Cheese...    $11.75       11.75  \n",
      "\n",
      "[1393 rows x 6 columns]\n",
      "1393\n"
     ]
    }
   ],
   "source": [
    "# Question 43\n",
    "lst =[1.69, 2.39, 3.39, 4.45, 9.25, 10.98, 11.75, 16.98]\n",
    "Ans43 = df3.loc[df3['new_price'].isin(lst)]\n",
    "print(Ans43)\n",
    "print(len(Ans43))"
   ]
  },
  {
   "cell_type": "code",
   "execution_count": 465,
   "metadata": {},
   "outputs": [
    {
     "name": "stdout",
     "output_type": "stream",
     "text": [
      "     id                                              name  host_id  \\\n",
      "0  2539                Clean & quiet apt home by the park     2787   \n",
      "1  2595                             Skylit Midtown Castle     2845   \n",
      "2  3647               THE VILLAGE OF HARLEM....NEW YORK !     4632   \n",
      "3  3831                   Cozy Entire Floor of Brownstone     4869   \n",
      "4  5022  Entire Apt: Spacious Studio/Loft by central park     7192   \n",
      "\n",
      "     host_name neighbourhood_group neighbourhood  latitude  longitude  \\\n",
      "0         John            Brooklyn    Kensington  40.64749  -73.97237   \n",
      "1     Jennifer           Manhattan       Midtown  40.75362  -73.98377   \n",
      "2    Elisabeth           Manhattan        Harlem  40.80902  -73.94190   \n",
      "3  LisaRoxanne            Brooklyn  Clinton Hill  40.68514  -73.95976   \n",
      "4        Laura           Manhattan   East Harlem  40.79851  -73.94399   \n",
      "\n",
      "         room_type  price  minimum_nights  number_of_reviews last_review  \\\n",
      "0     Private room    149               1                  9  2018-10-19   \n",
      "1  Entire home/apt    225               1                 45  2019-05-21   \n",
      "2     Private room    150               3                  0         NaN   \n",
      "3  Entire home/apt     89               1                270  2019-07-05   \n",
      "4  Entire home/apt     80              10                  9  2018-11-19   \n",
      "\n",
      "   reviews_per_month  calculated_host_listings_count  availability_365  \n",
      "0               0.21                               6               365  \n",
      "1               0.38                               2               355  \n",
      "2                NaN                               1               365  \n",
      "3               4.64                               1               194  \n",
      "4               0.10                               1                 0  \n"
     ]
    }
   ],
   "source": [
    "# 03_Grouping\n",
    "# Question 44\n",
    "DataUrl = 'https://raw.githubusercontent.com/Datamanim/pandas/main/AB_NYC_2019.csv'\n",
    "df4 = pd.read_csv(DataUrl)\n",
    "Ans44 = df4.head()\n",
    "print(Ans44)"
   ]
  },
  {
   "cell_type": "code",
   "execution_count": 500,
   "metadata": {},
   "outputs": [
    {
     "name": "stdout",
     "output_type": "stream",
     "text": [
      "host_name\n",
      "'Cil                        1\n",
      "(Ari) HENRY LEE             1\n",
      "(Email hidden by Airbnb)    6\n",
      "(Mary) Haiy                 1\n",
      "-TheQueensCornerLot         1\n",
      "dtype: int64\n"
     ]
    }
   ],
   "source": [
    "# Question 45\n",
    "Ans45 = df4.groupby('host_name').size().head()\n",
    "print(Ans45)"
   ]
  },
  {
   "cell_type": "code",
   "execution_count": 504,
   "metadata": {},
   "outputs": [
    {
     "name": "stdout",
     "output_type": "stream",
     "text": [
      "host_name\n",
      "'Cil                        1\n",
      "(Ari) HENRY LEE             1\n",
      "(Email hidden by Airbnb)    6\n",
      "(Mary) Haiy                 1\n",
      "-TheQueensCornerLot         1\n",
      "Name: count, dtype: int64\n"
     ]
    }
   ],
   "source": [
    "# Question 45_1\n",
    "Ans45_1 = df4['host_name'].value_counts().sort_index().head()\n",
    "print(Ans45_1)"
   ]
  },
  {
   "cell_type": "code",
   "execution_count": 509,
   "metadata": {},
   "outputs": [
    {
     "name": "stdout",
     "output_type": "stream",
     "text": [
      "              counts\n",
      "host_name           \n",
      "Michael          417\n",
      "David            403\n",
      "Sonder (NYC)     327\n",
      "John             294\n",
      "Alex             279\n",
      "...              ...\n",
      "Jerbean            1\n",
      "Jerald             1\n",
      "Jeonghoon          1\n",
      "Jeny               1\n",
      "현선                 1\n",
      "\n",
      "[11452 rows x 1 columns]\n"
     ]
    }
   ],
   "source": [
    "# Question 46\n",
    "Ans46 = df4.groupby('host_name').size().to_frame().rename(columns={0:'counts'}).sort_values('counts', ascending=False)\n",
    "print(Ans46)"
   ]
  },
  {
   "cell_type": "code",
   "execution_count": 518,
   "metadata": {},
   "outputs": [
    {
     "name": "stdout",
     "output_type": "stream",
     "text": [
      "              counts\n",
      "host_name           \n",
      "Michael          417\n",
      "David            403\n",
      "Sonder (NYC)     327\n",
      "John             294\n",
      "Alex             279\n",
      "...              ...\n",
      "Jerbean            1\n",
      "Jerald             1\n",
      "Jeonghoon          1\n",
      "Jeny               1\n",
      "현선                 1\n",
      "\n",
      "[11452 rows x 1 columns]\n"
     ]
    }
   ],
   "source": [
    "# Question 46_1\n",
    "Ans46_1 = df4.groupby('host_name').value_counts().to_frame().rename(columns={'host_name':'counts'})\n",
    "print(Ans46)"
   ]
  },
  {
   "cell_type": "code",
   "execution_count": 536,
   "metadata": {},
   "outputs": [
    {
     "name": "stdout",
     "output_type": "stream",
     "text": [
      "    neighbourhood_group  neighbourhood  size\n",
      "0                 Bronx       Allerton    42\n",
      "1                 Bronx     Baychester     7\n",
      "2                 Bronx        Belmont    24\n",
      "3                 Bronx      Bronxdale    19\n",
      "4                 Bronx    Castle Hill     9\n",
      "..                  ...            ...   ...\n",
      "216       Staten Island    Tottenville     7\n",
      "217       Staten Island  West Brighton    18\n",
      "218       Staten Island    Westerleigh     2\n",
      "219       Staten Island    Willowbrook     1\n",
      "220       Staten Island        Woodrow     1\n",
      "\n",
      "[221 rows x 3 columns]\n"
     ]
    }
   ],
   "source": [
    "# Question 47\n",
    "Ans47 = df4.groupby(['neighbourhood_group', 'neighbourhood'], as_index=False).size()\n",
    "print(Ans47)"
   ]
  },
  {
   "cell_type": "code",
   "execution_count": 530,
   "metadata": {},
   "outputs": [
    {
     "name": "stdout",
     "output_type": "stream",
     "text": [
      "  neighbourhood_group    neighbourhood  size\n",
      "0               Bronx         Woodlawn    70\n",
      "1            Brooklyn  Windsor Terrace  3920\n",
      "2           Manhattan     West Village  2658\n",
      "3              Queens         Woodside   900\n",
      "4       Staten Island          Woodrow    48\n"
     ]
    }
   ],
   "source": [
    "# Question 48\n",
    "Ans48 = df4.groupby(['neighbourhood_group', 'neighbourhood'], as_index=False).size().groupby('neighbourhood_group', as_index=False).max()\n",
    "print(Ans48)"
   ]
  },
  {
   "cell_type": "code",
   "execution_count": 539,
   "metadata": {},
   "outputs": [
    {
     "name": "stdout",
     "output_type": "stream",
     "text": [
      "    neighbourhood_group neighbourhood  size\n",
      "18                Bronx   Kingsbridge    70\n",
      "93             Brooklyn  Williamsburg  3920\n",
      "105           Manhattan        Harlem  2658\n",
      "128              Queens       Astoria   900\n",
      "212       Staten Island    St. George    48\n"
     ]
    }
   ],
   "source": [
    "# Question 48\n",
    "Ans48 = df4[['neighbourhood_group','neighbourhood']].groupby(['neighbourhood_group', 'neighbourhood'], as_index=False).size().sort_values(['neighbourhood_group','size'], ascending=[True,False]).drop_duplicates('neighbourhood_group', keep='first')\n",
    "print(Ans48)"
   ]
  },
  {
   "cell_type": "code",
   "execution_count": 542,
   "metadata": {},
   "outputs": [
    {
     "name": "stdout",
     "output_type": "stream",
     "text": [
      "                          price                         \n",
      "                           mean           var    max min\n",
      "neighbourhood_group                                     \n",
      "Bronx                 87.496792  11386.885081   2500   0\n",
      "Brooklyn             124.383207  34921.719135  10000   0\n",
      "Manhattan            196.875814  84904.159185  10000   0\n",
      "Queens                99.517649  27923.130227  10000  10\n",
      "Staten Island        114.812332  77073.088342   5000  13\n"
     ]
    }
   ],
   "source": [
    "# Question 49\n",
    "Ans49 = df4[['neighbourhood_group','price']].groupby('neighbourhood_group').agg(['mean', 'var', 'max', 'min'])\n",
    "print(Ans49)"
   ]
  },
  {
   "cell_type": "code",
   "execution_count": 550,
   "metadata": {},
   "outputs": [
    {
     "name": "stdout",
     "output_type": "stream",
     "text": [
      "                    reviews_per_month                       \n",
      "                                 mean       var    max   min\n",
      "neighbourhood_group                                         \n",
      "Bronx                        1.837831  2.799878  10.34  0.02\n",
      "Brooklyn                     1.283212  2.299040  14.00  0.01\n",
      "Manhattan                    1.272131  2.651206  58.50  0.01\n",
      "Queens                       1.941200  4.897848  20.94  0.01\n",
      "Staten Island                1.872580  2.840895  10.12  0.02\n"
     ]
    }
   ],
   "source": [
    "# Question 50\n",
    "Ans50 = df4[['neighbourhood_group','reviews_per_month']].groupby('neighbourhood_group').agg(['mean', 'var', 'max', 'min'])\n",
    "print(Ans50)"
   ]
  },
  {
   "cell_type": "code",
   "execution_count": 560,
   "metadata": {},
   "outputs": [
    {
     "name": "stdout",
     "output_type": "stream",
     "text": [
      "neighbourhood    neighbourhood_group\n",
      "Allerton         Bronx                   87.595238\n",
      "Arden Heights    Staten Island           67.250000\n",
      "Arrochar         Staten Island          115.000000\n",
      "Arverne          Queens                 171.779221\n",
      "Astoria          Queens                 117.187778\n",
      "                                           ...    \n",
      "Windsor Terrace  Brooklyn               138.993631\n",
      "Woodhaven        Queens                  67.170455\n",
      "Woodlawn         Bronx                   60.090909\n",
      "Woodrow          Staten Island          700.000000\n",
      "Woodside         Queens                  85.097872\n",
      "Name: price, Length: 221, dtype: float64\n"
     ]
    }
   ],
   "source": [
    "# Question 51\n",
    "Ans51 = df4.groupby(['neighbourhood', 'neighbourhood_group'])['price'].mean()\n",
    "print(Ans51)"
   ]
  },
  {
   "cell_type": "code",
   "execution_count": 559,
   "metadata": {},
   "outputs": [
    {
     "name": "stdout",
     "output_type": "stream",
     "text": [
      "                                          price\n",
      "neighbourhood   neighbourhood_group            \n",
      "Allerton        Bronx                 87.595238\n",
      "Arden Heights   Staten Island         67.250000\n",
      "Arrochar        Staten Island        115.000000\n",
      "Arverne         Queens               171.779221\n",
      "Astoria         Queens               117.187778\n",
      "...                                         ...\n",
      "Windsor Terrace Brooklyn             138.993631\n",
      "Woodhaven       Queens                67.170455\n",
      "Woodlawn        Bronx                 60.090909\n",
      "Woodrow         Staten Island        700.000000\n",
      "Woodside        Queens                85.097872\n",
      "\n",
      "[221 rows x 1 columns]\n"
     ]
    }
   ],
   "source": [
    "# Question 51_1\n",
    "Ans51_1 = df4[['neighbourhood', 'neighbourhood_group','price']].groupby(['neighbourhood', 'neighbourhood_group']).mean()\n",
    "print(Ans51_1)"
   ]
  },
  {
   "cell_type": "code",
   "execution_count": 575,
   "metadata": {},
   "outputs": [
    {
     "name": "stdout",
     "output_type": "stream",
     "text": [
      "                                          price\n",
      "neighbourhood   neighbourhood_group            \n",
      "Allerton        Bronx                 87.595238\n",
      "Arden Heights   Staten Island         67.250000\n",
      "Arrochar        Staten Island        115.000000\n",
      "Arverne         Queens               171.779221\n",
      "Astoria         Queens               117.187778\n",
      "...                                         ...\n",
      "Windsor Terrace Brooklyn             138.993631\n",
      "Woodhaven       Queens                67.170455\n",
      "Woodlawn        Bronx                 60.090909\n",
      "Woodrow         Staten Island        700.000000\n",
      "Woodside        Queens                85.097872\n",
      "\n",
      "[221 rows x 1 columns]\n"
     ]
    }
   ],
   "source": [
    "# Question 51_2\n",
    "Ans51_2 = df4.groupby(['neighbourhood', 'neighbourhood_group']).mean('price')[['price']]\n",
    "print(Ans51_2)"
   ]
  },
  {
   "cell_type": "code",
   "execution_count": 565,
   "metadata": {},
   "outputs": [
    {
     "name": "stdout",
     "output_type": "stream",
     "text": [
      "neighbourhood_group      Bronx    Brooklyn  Manhattan      Queens  \\\n",
      "neighbourhood                                                       \n",
      "Allerton             87.595238         NaN        NaN         NaN   \n",
      "Arden Heights              NaN         NaN        NaN         NaN   \n",
      "Arrochar                   NaN         NaN        NaN         NaN   \n",
      "Arverne                    NaN         NaN        NaN  171.779221   \n",
      "Astoria                    NaN         NaN        NaN  117.187778   \n",
      "...                        ...         ...        ...         ...   \n",
      "Windsor Terrace            NaN  138.993631        NaN         NaN   \n",
      "Woodhaven                  NaN         NaN        NaN   67.170455   \n",
      "Woodlawn             60.090909         NaN        NaN         NaN   \n",
      "Woodrow                    NaN         NaN        NaN         NaN   \n",
      "Woodside                   NaN         NaN        NaN   85.097872   \n",
      "\n",
      "neighbourhood_group  Staten Island  \n",
      "neighbourhood                       \n",
      "Allerton                       NaN  \n",
      "Arden Heights                67.25  \n",
      "Arrochar                    115.00  \n",
      "Arverne                        NaN  \n",
      "Astoria                        NaN  \n",
      "...                            ...  \n",
      "Windsor Terrace                NaN  \n",
      "Woodhaven                      NaN  \n",
      "Woodlawn                       NaN  \n",
      "Woodrow                     700.00  \n",
      "Woodside                       NaN  \n",
      "\n",
      "[221 rows x 5 columns]\n"
     ]
    }
   ],
   "source": [
    "# Question 52\n",
    "Ans52 = df4.groupby(['neighbourhood','neighbourhood_group'])['price'].mean().unstack()\n",
    "print(Ans52)"
   ]
  },
  {
   "cell_type": "code",
   "execution_count": 572,
   "metadata": {},
   "outputs": [
    {
     "name": "stdout",
     "output_type": "stream",
     "text": [
      "       neighbourhood neighbourhood_group       price\n",
      "0           Allerton               Bronx   87.595238\n",
      "1      Arden Heights       Staten Island   67.250000\n",
      "2           Arrochar       Staten Island  115.000000\n",
      "3            Arverne              Queens  171.779221\n",
      "4            Astoria              Queens  117.187778\n",
      "..               ...                 ...         ...\n",
      "216  Windsor Terrace            Brooklyn  138.993631\n",
      "217        Woodhaven              Queens   67.170455\n",
      "218         Woodlawn               Bronx   60.090909\n",
      "219          Woodrow       Staten Island  700.000000\n",
      "220         Woodside              Queens   85.097872\n",
      "\n",
      "[221 rows x 3 columns]\n"
     ]
    }
   ],
   "source": [
    "# Question 52_1\n",
    "Ans52_1 = df4.groupby(['neighbourhood','neighbourhood_group'], as_index=False).mean('price')[['neighbourhood', 'neighbourhood_group', 'price']]\n",
    "print(Ans52_1)"
   ]
  },
  {
   "cell_type": "code",
   "execution_count": 580,
   "metadata": {},
   "outputs": [
    {
     "name": "stdout",
     "output_type": "stream",
     "text": [
      "neighbourhood_group       Bronx    Brooklyn  Manhattan      Queens  \\\n",
      "neighbourhood                                                        \n",
      "Allerton              87.595238 -999.000000     -999.0 -999.000000   \n",
      "Arden Heights       -999.000000 -999.000000     -999.0 -999.000000   \n",
      "Arrochar            -999.000000 -999.000000     -999.0 -999.000000   \n",
      "Arverne             -999.000000 -999.000000     -999.0  171.779221   \n",
      "Astoria             -999.000000 -999.000000     -999.0  117.187778   \n",
      "...                         ...         ...        ...         ...   \n",
      "Windsor Terrace     -999.000000  138.993631     -999.0 -999.000000   \n",
      "Woodhaven           -999.000000 -999.000000     -999.0   67.170455   \n",
      "Woodlawn              60.090909 -999.000000     -999.0 -999.000000   \n",
      "Woodrow             -999.000000 -999.000000     -999.0 -999.000000   \n",
      "Woodside            -999.000000 -999.000000     -999.0   85.097872   \n",
      "\n",
      "neighbourhood_group  Staten Island  \n",
      "neighbourhood                       \n",
      "Allerton                   -999.00  \n",
      "Arden Heights                67.25  \n",
      "Arrochar                    115.00  \n",
      "Arverne                    -999.00  \n",
      "Astoria                    -999.00  \n",
      "...                            ...  \n",
      "Windsor Terrace            -999.00  \n",
      "Woodhaven                  -999.00  \n",
      "Woodlawn                   -999.00  \n",
      "Woodrow                     700.00  \n",
      "Woodside                   -999.00  \n",
      "\n",
      "[221 rows x 5 columns]\n"
     ]
    }
   ],
   "source": [
    "# Question 53\n",
    "Ans53 = df4.groupby(['neighbourhood','neighbourhood_group'])['price'].mean().unstack().fillna(-999)\n",
    "print(Ans53)"
   ]
  },
  {
   "cell_type": "code",
   "execution_count": 581,
   "metadata": {},
   "outputs": [
    {
     "name": "stdout",
     "output_type": "stream",
     "text": [
      "       neighbourhood neighbourhood_group       price\n",
      "0           Allerton               Bronx   87.595238\n",
      "1      Arden Heights       Staten Island   67.250000\n",
      "2           Arrochar       Staten Island  115.000000\n",
      "3            Arverne              Queens  171.779221\n",
      "4            Astoria              Queens  117.187778\n",
      "..               ...                 ...         ...\n",
      "216  Windsor Terrace            Brooklyn  138.993631\n",
      "217        Woodhaven              Queens   67.170455\n",
      "218         Woodlawn               Bronx   60.090909\n",
      "219          Woodrow       Staten Island  700.000000\n",
      "220         Woodside              Queens   85.097872\n",
      "\n",
      "[221 rows x 3 columns]\n"
     ]
    }
   ],
   "source": [
    "# Question 53_1\n",
    "Ans53_1 = df4.groupby(['neighbourhood','neighbourhood_group'], as_index=False).mean('price')[['neighbourhood', 'neighbourhood_group', 'price']].fillna(-999)\n",
    "print(Ans53_1)"
   ]
  },
  {
   "cell_type": "code",
   "execution_count": 592,
   "metadata": {},
   "outputs": [
    {
     "name": "stdout",
     "output_type": "stream",
     "text": [
      "                           mean            var    max  min\n",
      "neighbourhood                                             \n",
      "Arverne              171.779221   37383.411141   1500   35\n",
      "Astoria              117.187778  122428.811196  10000   25\n",
      "Bay Terrace          142.000000    6816.400000    258   32\n",
      "Bayside              157.948718  166106.470985   2600   30\n",
      "Bayswater             87.470588    2330.889706    230   45\n",
      "Belle Harbor         171.500000    8226.571429    350   85\n",
      "Bellerose             99.357143    3093.016484    240   42\n",
      "Breezy Point         213.333333    1008.333333    250  195\n",
      "Briarwood            105.875000   18503.165909   1000   30\n",
      "Cambria Heights       81.730769    2960.604615    250   31\n",
      "College Point         88.000000    6445.555556    400   44\n",
      "Corona                59.171875    2430.557292    359   23\n",
      "Ditmars Steinway      95.029126    4214.112785    600   22\n",
      "Douglaston            82.750000    2347.071429    178   40\n",
      "East Elmhurst         81.183784    4369.487779    700   16\n",
      "Edgemere              94.727273    4219.418182    200   40\n",
      "Elmhurst              80.459916    3896.563005    443   15\n",
      "Far Rockaway         165.862069   52575.980296    900   35\n",
      "Flushing              93.514085   12417.177448   1500   15\n",
      "Forest Hills         121.625000   44533.368881   2350   16\n",
      "Fresh Meadows         99.500000    6394.451613    375   39\n",
      "Glendale              90.796296    3230.882250    299   25\n",
      "Hollis                88.642857    1483.016484    175   50\n",
      "Holliswood           135.750000    5091.583333    239   79\n",
      "Howard Beach         115.400000    4241.936842    250   40\n",
      "Jackson Heights       80.897849    2150.470590    260   23\n",
      "Jamaica               95.770563    8067.047130   1000   10\n",
      "Jamaica Estates      182.947368   29006.052632    750   35\n",
      "Jamaica Hills        132.125000   11304.696429    325   50\n",
      "Kew Gardens           88.375000    2632.306452    219   35\n",
      "Kew Gardens Hills    112.307692    6230.621538    399   40\n",
      "Laurelton             95.333333    4355.529412    254   34\n",
      "Little Neck           75.200000    2368.700000    149   32\n",
      "Long Island City     127.465549   15529.503009   2000   30\n",
      "Maspeth               83.645455    2223.607089    245   11\n",
      "Middle Village       109.580645    3537.118280    265   28\n",
      "Neponsit             274.666667    5625.333333    350  200\n",
      "Ozone Park            85.274194    1705.415389    200   25\n",
      "Queens Village        83.933333    2386.470056    320   25\n",
      "Rego Park             83.877358    3659.003863    300   21\n",
      "Richmond Hill         87.117021    3474.147449    300   28\n",
      "Ridgewood             77.184397    2629.311889    375   20\n",
      "Rockaway Beach       132.178571    6254.622078    545   49\n",
      "Rosedale              76.694915    2963.939801    350   22\n",
      "South Ozone Park      82.400000    4619.989744    400   29\n",
      "Springfield Gardens   94.235294    2490.848739    300   40\n",
      "St. Albans           100.828947    9489.903684    600   25\n",
      "Sunnyside             84.865014    2727.746922    600   12\n",
      "Whitestone           107.545455   13632.072727    400   35\n",
      "Woodhaven             67.170455    1642.464864    250   10\n",
      "Woodside              85.097872    5001.900636    500   28\n"
     ]
    }
   ],
   "source": [
    "# Question 54\n",
    "Ans54 = df4.loc[df4['neighbourhood_group'] == 'Queens'].groupby('neighbourhood')['price'].agg(['mean', 'var', 'max', 'min'])\n",
    "print(Ans54)"
   ]
  },
  {
   "cell_type": "code",
   "execution_count": 598,
   "metadata": {},
   "outputs": [
    {
     "name": "stdout",
     "output_type": "stream",
     "text": [
      "room_type            Entire home/apt  Private room  Shared room\n",
      "neighbourhood_group                                            \n",
      "Bronx                       0.347388      0.597617     0.054995\n",
      "Brooklyn                    0.475478      0.503979     0.020543\n",
      "Manhattan                   0.609344      0.368496     0.022160\n",
      "Queens                      0.369926      0.595129     0.034945\n",
      "Staten Island               0.471850      0.504021     0.024129\n"
     ]
    },
    {
     "name": "stderr",
     "output_type": "stream",
     "text": [
      "C:\\Users\\Administrator\\AppData\\Local\\Temp\\ipykernel_9168\\2090327652.py:3: FutureWarning: Setting an item of incompatible dtype is deprecated and will raise in a future error of pandas. Value '[0.34738772 0.47547752 0.60934398 0.36992587 0.47184987]' has dtype incompatible with int64, please explicitly cast to a compatible dtype first.\n",
      "  Ans55.loc[:,:] = (Ans55.values / Ans55.sum(axis=1).values.reshape(-1,1))\n",
      "C:\\Users\\Administrator\\AppData\\Local\\Temp\\ipykernel_9168\\2090327652.py:3: FutureWarning: Setting an item of incompatible dtype is deprecated and will raise in a future error of pandas. Value '[0.59761687 0.50397931 0.36849638 0.59512884 0.50402145]' has dtype incompatible with int64, please explicitly cast to a compatible dtype first.\n",
      "  Ans55.loc[:,:] = (Ans55.values / Ans55.sum(axis=1).values.reshape(-1,1))\n",
      "C:\\Users\\Administrator\\AppData\\Local\\Temp\\ipykernel_9168\\2090327652.py:3: FutureWarning: Setting an item of incompatible dtype is deprecated and will raise in a future error of pandas. Value '[0.05499542 0.02054318 0.02215964 0.03494529 0.02412869]' has dtype incompatible with int64, please explicitly cast to a compatible dtype first.\n",
      "  Ans55.loc[:,:] = (Ans55.values / Ans55.sum(axis=1).values.reshape(-1,1))\n"
     ]
    }
   ],
   "source": [
    "# Question 55\n",
    "Ans55 = df4[['neighbourhood_group','room_type']].groupby(['neighbourhood_group','room_type']).size().unstack()\n",
    "Ans55.loc[:,:] = (Ans55.values / Ans55.sum(axis=1).values.reshape(-1,1))\n",
    "print(Ans55)"
   ]
  },
  {
   "cell_type": "code",
   "execution_count": 477,
   "metadata": {},
   "outputs": [
    {
     "name": "stdout",
     "output_type": "stream",
     "text": [
      "(10127, 18)\n"
     ]
    }
   ],
   "source": [
    "# 04_Apply, Map\n",
    "# Question 56\n",
    "DataUrl = 'https://raw.githubusercontent.com/Datamanim/pandas/main/BankChurnersUp.csv'\n",
    "df5 = pd.read_csv(DataUrl,index_col=0)\n",
    "Ans56 = df5.shape\n",
    "print(Ans56)"
   ]
  },
  {
   "cell_type": "code",
   "execution_count": null,
   "metadata": {},
   "outputs": [],
   "source": [
    "# Question 56\n"
   ]
  },
  {
   "cell_type": "code",
   "execution_count": 478,
   "metadata": {},
   "outputs": [
    {
     "name": "stdout",
     "output_type": "stream",
     "text": [
      "<class 'pandas.core.frame.DataFrame'>\n",
      "RangeIndex: 6574 entries, 0 to 6573\n",
      "Data columns (total 13 columns):\n",
      " #   Column    Non-Null Count  Dtype  \n",
      "---  ------    --------------  -----  \n",
      " 0   Yr_Mo_Dy  6574 non-null   object \n",
      " 1   RPT       6568 non-null   float64\n",
      " 2   VAL       6571 non-null   float64\n",
      " 3   ROS       6572 non-null   float64\n",
      " 4   KIL       6569 non-null   float64\n",
      " 5   SHA       6572 non-null   float64\n",
      " 6   BIR       6574 non-null   float64\n",
      " 7   DUB       6571 non-null   float64\n",
      " 8   CLA       6572 non-null   float64\n",
      " 9   MUL       6571 non-null   float64\n",
      " 10  CLO       6573 non-null   float64\n",
      " 11  BEL       6574 non-null   float64\n",
      " 12  MAL       6570 non-null   float64\n",
      "dtypes: float64(12), object(1)\n",
      "memory usage: 667.8+ KB\n"
     ]
    }
   ],
   "source": [
    "# 05_Time_Series\n",
    "# Question 64\n",
    "DataUrl = 'https://raw.githubusercontent.com/Datamanim/pandas/main/timeTest.csv'\n",
    "df6 = pd.read_csv(DataUrl)\n",
    "df6.info()"
   ]
  },
  {
   "cell_type": "code",
   "execution_count": null,
   "metadata": {},
   "outputs": [],
   "source": [
    "# Question 64\n"
   ]
  },
  {
   "cell_type": "code",
   "execution_count": 479,
   "metadata": {},
   "outputs": [],
   "source": [
    "DataUrl = 'https://raw.githubusercontent.com/Datamanim/pandas/main/seoul_pm.csv'\n",
    "df7 = pd.read_csv(DataUrl)"
   ]
  },
  {
   "cell_type": "code",
   "execution_count": null,
   "metadata": {},
   "outputs": [],
   "source": [
    "# Question 76"
   ]
  },
  {
   "cell_type": "code",
   "execution_count": 480,
   "metadata": {},
   "outputs": [],
   "source": [
    "# 06_Pivot\n",
    "Dataurl = 'https://raw.githubusercontent.com/Datamanim/pandas/main/under5MortalityRate.csv'\n",
    "df8 = pd.read_csv(DataUrl)"
   ]
  },
  {
   "cell_type": "code",
   "execution_count": null,
   "metadata": {},
   "outputs": [],
   "source": [
    "# Question 83\n"
   ]
  },
  {
   "cell_type": "code",
   "execution_count": 481,
   "metadata": {},
   "outputs": [],
   "source": [
    "dataUrl ='https://raw.githubusercontent.com/Datamanim/pandas/main/winter.csv'\n",
    "df9 = pd.read_csv(DataUrl)"
   ]
  },
  {
   "cell_type": "code",
   "execution_count": null,
   "metadata": {},
   "outputs": [],
   "source": [
    "# Question 87\n"
   ]
  },
  {
   "cell_type": "code",
   "execution_count": 482,
   "metadata": {},
   "outputs": [],
   "source": [
    "# 07_Merge , Concat\n",
    "Dataurl = 'https://raw.githubusercontent.com/Datamanim/pandas/main/mergeTEst.csv'\n",
    "df10 = pd.read_csv(DataUrl)"
   ]
  },
  {
   "cell_type": "code",
   "execution_count": null,
   "metadata": {},
   "outputs": [],
   "source": [
    "# Question 91\n"
   ]
  }
 ],
 "metadata": {
  "kernelspec": {
   "display_name": "Python 3",
   "language": "python",
   "name": "python3"
  },
  "language_info": {
   "codemirror_mode": {
    "name": "ipython",
    "version": 3
   },
   "file_extension": ".py",
   "mimetype": "text/x-python",
   "name": "python",
   "nbconvert_exporter": "python",
   "pygments_lexer": "ipython3",
   "version": "3.12.4"
  }
 },
 "nbformat": 4,
 "nbformat_minor": 2
}
