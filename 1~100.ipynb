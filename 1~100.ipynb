{
 "cells": [
  {
   "cell_type": "markdown",
   "metadata": {},
   "source": [
    "## DataManim https://www.datamanim.com/"
   ]
  },
  {
   "cell_type": "code",
   "execution_count": null,
   "metadata": {},
   "outputs": [],
   "source": [
    "# 01 Getting & Knowing Data\n",
    "import pandas as pd\n",
    "import numpy as np"
   ]
  },
  {
   "cell_type": "code",
   "execution_count": null,
   "metadata": {},
   "outputs": [],
   "source": [
    "# Question 1\n",
    "url = 'https://raw.githubusercontent.com/Datamanim/pandas/main/lol.csv'\n",
    "df = pd.read_csv(url, sep='\\t')"
   ]
  },
  {
   "cell_type": "code",
   "execution_count": null,
   "metadata": {},
   "outputs": [],
   "source": [
    "# Question 2\n",
    "Ans2 = df.head(5)\n",
    "print(Ans2)"
   ]
  },
  {
   "cell_type": "code",
   "execution_count": null,
   "metadata": {},
   "outputs": [],
   "source": [
    "# Question 3\n",
    "print(df.shape)\n",
    "print('행:',df.shape[0])\n",
    "print('열:',df.shape[1])"
   ]
  },
  {
   "cell_type": "code",
   "execution_count": null,
   "metadata": {},
   "outputs": [],
   "source": [
    "# Question 4\n",
    "Ans4 = df.columns\n",
    "print(Ans4)"
   ]
  },
  {
   "cell_type": "code",
   "execution_count": null,
   "metadata": {},
   "outputs": [],
   "source": [
    "# Question 5\n",
    "Ans5 = df.columns[5]\n",
    "print(Ans5)"
   ]
  },
  {
   "cell_type": "code",
   "execution_count": null,
   "metadata": {},
   "outputs": [],
   "source": [
    "# Question 6\n",
    "Ans6 = df[df.columns[5]].dtype\n",
    "Ans6_1 = df.iloc[:,5].dtype\n",
    "print(Ans6)\n",
    "print(Ans6_1)"
   ]
  },
  {
   "cell_type": "code",
   "execution_count": null,
   "metadata": {},
   "outputs": [],
   "source": [
    "# Question 7\n",
    "Ans7 = df.index\n",
    "print(Ans7)"
   ]
  },
  {
   "cell_type": "code",
   "execution_count": null,
   "metadata": {},
   "outputs": [],
   "source": [
    "# Question 8\n",
    "Ans8 = df[df.columns[5]][2]\n",
    "print(Ans8)"
   ]
  },
  {
   "cell_type": "code",
   "execution_count": null,
   "metadata": {},
   "outputs": [],
   "source": [
    "# Question 8_1\n",
    "Ans8_1 = df.iloc[2,5]\n",
    "print(Ans8_1)"
   ]
  },
  {
   "cell_type": "code",
   "execution_count": null,
   "metadata": {},
   "outputs": [],
   "source": [
    "# Question 9\n",
    "DataUrl = 'https://raw.githubusercontent.com/Datamanim/pandas/main/Jeju.csv'\n",
    "df2 = pd.read_csv(DataUrl, encoding='euc-kr')"
   ]
  },
  {
   "cell_type": "code",
   "execution_count": null,
   "metadata": {},
   "outputs": [],
   "source": [
    "# Question 10\n",
    "Ans10 = df2.tail(3)\n",
    "print(Ans10)"
   ]
  },
  {
   "cell_type": "code",
   "execution_count": null,
   "metadata": {},
   "outputs": [],
   "source": [
    "# Question 11\n",
    "Ans11 = df2.select_dtypes(include=[int, float])\n",
    "print(Ans11)"
   ]
  },
  {
   "cell_type": "code",
   "execution_count": null,
   "metadata": {},
   "outputs": [],
   "source": [
    "# Question 11_1\n",
    "Ans11_1 = df2.select_dtypes(exclude=object)\n",
    "print(Ans11_1)"
   ]
  },
  {
   "cell_type": "code",
   "execution_count": null,
   "metadata": {},
   "outputs": [],
   "source": [
    "# Question 12\n",
    "Ans12 = df2.select_dtypes(include=object)\n",
    "print(Ans12)"
   ]
  },
  {
   "cell_type": "code",
   "execution_count": null,
   "metadata": {},
   "outputs": [],
   "source": [
    "# Question 13\n",
    "Ans13 = df2.isnull().sum().sum()\n",
    "print(Ans13)"
   ]
  },
  {
   "cell_type": "code",
   "execution_count": null,
   "metadata": {},
   "outputs": [],
   "source": [
    "# Question 14\n",
    "df2.info()"
   ]
  },
  {
   "cell_type": "code",
   "execution_count": null,
   "metadata": {},
   "outputs": [],
   "source": [
    "# Question 15\n",
    "Ans15 = df2.describe()\n",
    "print(Ans15)"
   ]
  },
  {
   "cell_type": "code",
   "execution_count": null,
   "metadata": {},
   "outputs": [],
   "source": [
    "# Question 16\n",
    "Ans16 = df2.loc[:,'거주인구']\n",
    "print(Ans16)"
   ]
  },
  {
   "cell_type": "code",
   "execution_count": null,
   "metadata": {},
   "outputs": [],
   "source": [
    "# Question 16_1\n",
    "Ans16 = df2['거주인구']\n",
    "print(Ans16)"
   ]
  },
  {
   "cell_type": "code",
   "execution_count": null,
   "metadata": {},
   "outputs": [],
   "source": [
    "# Question 17\n",
    "Ans17 = df2['평균 속도'].quantile(0.75) - df2['평균 속도'].quantile(0.25)\n",
    "print(Ans17)"
   ]
  },
  {
   "cell_type": "code",
   "execution_count": null,
   "metadata": {},
   "outputs": [],
   "source": [
    "# Question 18\n",
    "Ans18 = df2['읍면동명'].nunique()\n",
    "print(Ans18)"
   ]
  },
  {
   "cell_type": "code",
   "execution_count": null,
   "metadata": {},
   "outputs": [],
   "source": [
    "# Question 18_1\n",
    "Ans18_1 = []\n",
    "for value in df2['읍면동명'].values:\n",
    "    if value not in Ans18_1:\n",
    "        Ans18_1.append(value)\n",
    "print(len(Ans18_1))"
   ]
  },
  {
   "cell_type": "code",
   "execution_count": null,
   "metadata": {},
   "outputs": [],
   "source": [
    "# Question 19\n",
    "Ans19 = df2['읍면동명'].unique()\n",
    "print(Ans19)"
   ]
  },
  {
   "cell_type": "code",
   "execution_count": null,
   "metadata": {},
   "outputs": [],
   "source": [
    "# 02 Filtering & Sorting\n",
    "# Question 20\n",
    "DataUrl = 'https://raw.githubusercontent.com/Datamanim/pandas/main/chipo.csv'\n",
    "df3 = pd.read_csv(DataUrl)"
   ]
  },
  {
   "cell_type": "code",
   "execution_count": null,
   "metadata": {},
   "outputs": [],
   "source": [
    "# Question 21\n",
    "Ans21 = df3.loc[df3['quantity']==3].head()\n",
    "print(Ans21)"
   ]
  },
  {
   "cell_type": "code",
   "execution_count": null,
   "metadata": {},
   "outputs": [],
   "source": [
    "# Question 21_1 but loc를 쓰는 습관을 들여라\n",
    "Ans21_1 = df3[df3['quantity']==3].head()\n",
    "print(Ans21_1)"
   ]
  },
  {
   "cell_type": "code",
   "execution_count": null,
   "metadata": {},
   "outputs": [],
   "source": [
    "# Question 22\n",
    "Ans22 = df3.loc[df3['quantity']==3].reset_index(drop=True).head()\n",
    "print(Ans22)"
   ]
  },
  {
   "cell_type": "code",
   "execution_count": null,
   "metadata": {},
   "outputs": [],
   "source": [
    "# Question 23\n",
    "Ans23 = df3[['quantity', 'item_price']]\n",
    "print(Ans23)"
   ]
  },
  {
   "cell_type": "code",
   "execution_count": null,
   "metadata": {},
   "outputs": [],
   "source": [
    "# Question 24\n",
    "Ans24 = df3\n",
    "Ans24['new_price'] = Ans24['item_price'].str[1:].astype('float')\n",
    "print(Ans24)"
   ]
  },
  {
   "cell_type": "code",
   "execution_count": null,
   "metadata": {},
   "outputs": [],
   "source": [
    "# Question 24\n",
    "df3['new_price'] = df3['item_price'].str.replace('$','',regex=False).astype('float')\n",
    "print(df3)"
   ]
  },
  {
   "cell_type": "code",
   "execution_count": null,
   "metadata": {},
   "outputs": [],
   "source": [
    "# Question 25\n",
    "Ans25 = len(df3.loc[df3['new_price']<=5])\n",
    "print(Ans25)"
   ]
  },
  {
   "cell_type": "code",
   "execution_count": null,
   "metadata": {},
   "outputs": [],
   "source": [
    "# Question 26\n",
    "Ans26 = df3.loc[df3['item_name']=='Chicken Salad Bowl'].reset_index(drop=True)\n",
    "print(Ans26)"
   ]
  },
  {
   "cell_type": "code",
   "execution_count": null,
   "metadata": {},
   "outputs": [],
   "source": [
    "# Question 27\n",
    "Ans27 = df3.loc[(df3['new_price']<=9) & (df3['item_name']==\"Chicken Salad Bowl\")]\n",
    "print(Ans27)"
   ]
  },
  {
   "cell_type": "code",
   "execution_count": null,
   "metadata": {},
   "outputs": [],
   "source": [
    "# Question 28\n",
    "Ans28 = df3.sort_values('new_price').reset_index(drop=True)\n",
    "print(Ans28)"
   ]
  },
  {
   "cell_type": "code",
   "execution_count": null,
   "metadata": {},
   "outputs": [],
   "source": [
    "# Question 29\n",
    "Ans29 = df3.loc[df3['item_name'].str.contains('Chips')]\n",
    "print(Ans29)"
   ]
  },
  {
   "cell_type": "code",
   "execution_count": null,
   "metadata": {},
   "outputs": [],
   "source": [
    "# Question 30\n",
    "Ans30 = df3.iloc[:,::2]\n",
    "#시작:끝:스텝, default값 0:-1:1(생략 가능)\n",
    "#홀수번째: df3.iloc[:,1::2]\n",
    "print(Ans30)"
   ]
  },
  {
   "cell_type": "code",
   "execution_count": null,
   "metadata": {},
   "outputs": [],
   "source": [
    "# Question 31\n",
    "Ans31 = df3.sort_values('new_price', ascending=False).reset_index(drop=True)\n",
    "print(Ans31)"
   ]
  },
  {
   "cell_type": "code",
   "execution_count": null,
   "metadata": {},
   "outputs": [],
   "source": [
    "# Question 32\n",
    "Ans32 = df3.loc[(df3['item_name']=='Steak Salad') | (df3['item_name']=='Bowl')]\n",
    "print(Ans32)"
   ]
  },
  {
   "cell_type": "code",
   "execution_count": null,
   "metadata": {},
   "outputs": [],
   "source": [
    "# Question 33\n",
    "Ans33 = df3.loc[(df3['item_name']=='Steak Salad') | (df3['item_name']=='Bowl')].drop_duplicates('item_name')\n",
    "print(Ans33)"
   ]
  },
  {
   "cell_type": "code",
   "execution_count": null,
   "metadata": {},
   "outputs": [],
   "source": [
    "# Question 34\n",
    "Ans34 = df3.loc[(df3['item_name']=='Steak Salad') | (df3['item_name']=='Bowl')].drop_duplicates('item_name',keep='last')\n",
    "print(Ans34)"
   ]
  },
  {
   "cell_type": "code",
   "execution_count": null,
   "metadata": {},
   "outputs": [],
   "source": [
    "# Question 35\n",
    "print(df3['new_price'].mean())\n",
    "Ans35 = df3.loc[df3['new_price'] >= df3['new_price'].mean()]\n",
    "print(Ans35)"
   ]
  },
  {
   "cell_type": "code",
   "execution_count": null,
   "metadata": {},
   "outputs": [],
   "source": [
    "# Question 36\n",
    "df3.loc[df3['item_name']=='Izze', 'item_name'] = 'Fizzy Lizzy'\n",
    "print(df3)"
   ]
  },
  {
   "cell_type": "code",
   "execution_count": null,
   "metadata": {},
   "outputs": [],
   "source": [
    "# Question 37\n",
    "Ans37 = df3['choice_description'].isnull().sum()\n",
    "print(Ans37)"
   ]
  },
  {
   "cell_type": "code",
   "execution_count": null,
   "metadata": {},
   "outputs": [],
   "source": [
    "# Question 38\n",
    "df3.loc[df3['choice_description'].isnull(),'choice_description'] = 'NoData'\n",
    "print(df3)"
   ]
  },
  {
   "cell_type": "code",
   "execution_count": null,
   "metadata": {},
   "outputs": [],
   "source": [
    "# Question 38_1\n",
    "df3.loc[:,'choice_description'] = df3['choice_description'].fillna('NoData')\n",
    "print(df3)"
   ]
  },
  {
   "cell_type": "code",
   "execution_count": null,
   "metadata": {},
   "outputs": [],
   "source": [
    "# Question 39\n",
    "Ans39 = df3.loc[df3['choice_description'].str.contains('Black')]\n",
    "print(Ans39)"
   ]
  },
  {
   "cell_type": "code",
   "execution_count": null,
   "metadata": {},
   "outputs": [],
   "source": [
    "# Question 40\n",
    "Ans40 = len(df3.loc[~df3['choice_description'].str.contains('Vegetables')])\n",
    "print(Ans40)"
   ]
  },
  {
   "cell_type": "code",
   "execution_count": null,
   "metadata": {},
   "outputs": [],
   "source": [
    "# Question 41\n",
    "Ans41 = df3.loc[df3['item_name'].str.startswith('N')]\n",
    "print(Ans41)"
   ]
  },
  {
   "cell_type": "code",
   "execution_count": null,
   "metadata": {},
   "outputs": [],
   "source": [
    "# Question 41_1\n",
    "Ans41_1 = df3.loc[df3['item_name'].str[0]=='N']\n",
    "print(Ans41_1)"
   ]
  },
  {
   "cell_type": "code",
   "execution_count": null,
   "metadata": {},
   "outputs": [],
   "source": [
    "# Question 42\n",
    "Ans42 = df3.loc[df3['item_name'].str.len()>=15]\n",
    "print(Ans42)"
   ]
  },
  {
   "cell_type": "code",
   "execution_count": null,
   "metadata": {},
   "outputs": [],
   "source": [
    "# Question 43\n",
    "lst =[1.69, 2.39, 3.39, 4.45, 9.25, 10.98, 11.75, 16.98]\n",
    "Ans43 = df3.loc[df3['new_price'].isin(lst)]\n",
    "print(Ans43)\n",
    "print(len(Ans43))"
   ]
  },
  {
   "cell_type": "code",
   "execution_count": null,
   "metadata": {},
   "outputs": [],
   "source": [
    "# 03_Grouping\n",
    "# Question 44\n",
    "DataUrl = 'https://raw.githubusercontent.com/Datamanim/pandas/main/AB_NYC_2019.csv'\n",
    "df4 = pd.read_csv(DataUrl)\n",
    "Ans44 = df4.head()\n",
    "print(Ans44)"
   ]
  },
  {
   "cell_type": "code",
   "execution_count": null,
   "metadata": {},
   "outputs": [],
   "source": [
    "# Question 45\n",
    "Ans45 = df4.groupby('host_name').size().head()\n",
    "print(Ans45)"
   ]
  },
  {
   "cell_type": "code",
   "execution_count": null,
   "metadata": {},
   "outputs": [],
   "source": [
    "# Question 45_1\n",
    "Ans45_1 = df4['host_name'].value_counts().sort_index().head()\n",
    "print(Ans45_1)"
   ]
  },
  {
   "cell_type": "code",
   "execution_count": null,
   "metadata": {},
   "outputs": [],
   "source": [
    "# Question 46\n",
    "Ans46 = df4.groupby('host_name').size().to_frame().rename(columns={0:'counts'}).sort_values('counts', ascending=False)\n",
    "print(Ans46)"
   ]
  },
  {
   "cell_type": "code",
   "execution_count": null,
   "metadata": {},
   "outputs": [],
   "source": [
    "# Question 46_1\n",
    "Ans46_1 = df4.groupby('host_name').value_counts().to_frame().rename(columns={'host_name':'counts'})\n",
    "print(Ans46)"
   ]
  },
  {
   "cell_type": "code",
   "execution_count": null,
   "metadata": {},
   "outputs": [],
   "source": [
    "# Question 47\n",
    "Ans47 = df4.groupby(['neighbourhood_group', 'neighbourhood'], as_index=False).size()\n",
    "print(Ans47)"
   ]
  },
  {
   "cell_type": "code",
   "execution_count": null,
   "metadata": {},
   "outputs": [],
   "source": [
    "# Question 48\n",
    "Ans48 = df4.groupby(['neighbourhood_group', 'neighbourhood'], as_index=False).size().groupby('neighbourhood_group', as_index=False).max()\n",
    "print(Ans48)"
   ]
  },
  {
   "cell_type": "code",
   "execution_count": null,
   "metadata": {},
   "outputs": [],
   "source": [
    "# Question 48\n",
    "Ans48 = df4[['neighbourhood_group','neighbourhood']].groupby(['neighbourhood_group', 'neighbourhood'], as_index=False).size().sort_values(['neighbourhood_group','size'], ascending=[True,False]).drop_duplicates('neighbourhood_group', keep='first')\n",
    "print(Ans48)"
   ]
  },
  {
   "cell_type": "code",
   "execution_count": null,
   "metadata": {},
   "outputs": [],
   "source": [
    "# Question 49\n",
    "Ans49 = df4[['neighbourhood_group','price']].groupby('neighbourhood_group').agg(['mean', 'var', 'max', 'min'])\n",
    "print(Ans49)"
   ]
  },
  {
   "cell_type": "code",
   "execution_count": null,
   "metadata": {},
   "outputs": [],
   "source": [
    "# Question 50\n",
    "Ans50 = df4[['neighbourhood_group','reviews_per_month']].groupby('neighbourhood_group').agg(['mean', 'var', 'max', 'min'])\n",
    "print(Ans50)"
   ]
  },
  {
   "cell_type": "code",
   "execution_count": null,
   "metadata": {},
   "outputs": [],
   "source": [
    "# Question 51\n",
    "Ans51 = df4.groupby(['neighbourhood', 'neighbourhood_group'])['price'].mean()\n",
    "print(Ans51)"
   ]
  },
  {
   "cell_type": "code",
   "execution_count": null,
   "metadata": {},
   "outputs": [],
   "source": [
    "# Question 51_1\n",
    "Ans51_1 = df4[['neighbourhood', 'neighbourhood_group','price']].groupby(['neighbourhood', 'neighbourhood_group']).mean()\n",
    "print(Ans51_1)"
   ]
  },
  {
   "cell_type": "code",
   "execution_count": null,
   "metadata": {},
   "outputs": [],
   "source": [
    "# Question 51_2\n",
    "Ans51_2 = df4.groupby(['neighbourhood', 'neighbourhood_group']).mean('price')[['price']]\n",
    "print(Ans51_2)"
   ]
  },
  {
   "cell_type": "code",
   "execution_count": null,
   "metadata": {},
   "outputs": [],
   "source": [
    "# Question 52\n",
    "Ans52 = df4.groupby(['neighbourhood','neighbourhood_group'])['price'].mean().unstack()\n",
    "print(Ans52)"
   ]
  },
  {
   "cell_type": "code",
   "execution_count": null,
   "metadata": {},
   "outputs": [],
   "source": [
    "# Question 52_1\n",
    "Ans52_1 = df4.groupby(['neighbourhood','neighbourhood_group'], as_index=False).mean('price')[['neighbourhood', 'neighbourhood_group', 'price']]\n",
    "print(Ans52_1)"
   ]
  },
  {
   "cell_type": "code",
   "execution_count": null,
   "metadata": {},
   "outputs": [],
   "source": [
    "# Question 53\n",
    "Ans53 = df4.groupby(['neighbourhood','neighbourhood_group'])['price'].mean().unstack().fillna(-999)\n",
    "print(Ans53)"
   ]
  },
  {
   "cell_type": "code",
   "execution_count": null,
   "metadata": {},
   "outputs": [],
   "source": [
    "# Question 53_1\n",
    "Ans53_1 = df4.groupby(['neighbourhood','neighbourhood_group'], as_index=False).mean('price')[['neighbourhood', 'neighbourhood_group', 'price']].fillna(-999)\n",
    "print(Ans53_1)"
   ]
  },
  {
   "cell_type": "code",
   "execution_count": null,
   "metadata": {},
   "outputs": [],
   "source": [
    "# Question 54\n",
    "Ans54 = df4.loc[df4['neighbourhood_group'] == 'Queens'].groupby('neighbourhood')['price'].agg(['mean', 'var', 'max', 'min'])\n",
    "print(Ans54)"
   ]
  },
  {
   "cell_type": "code",
   "execution_count": null,
   "metadata": {},
   "outputs": [],
   "source": [
    "# Question 55\n",
    "Ans55 = df4[['neighbourhood_group','room_type']].groupby(['neighbourhood_group','room_type']).size().unstack()\n",
    "Ans55.loc[:,:] = (Ans55.values / Ans55.sum(axis=1).values.reshape(-1,1))\n",
    "print(Ans55)"
   ]
  },
  {
   "cell_type": "code",
   "execution_count": null,
   "metadata": {},
   "outputs": [],
   "source": [
    "# 04_Apply, Map\n",
    "# Question 56\n",
    "DataUrl = 'https://raw.githubusercontent.com/Datamanim/pandas/main/BankChurnersUp.csv'\n",
    "df5 = pd.read_csv(DataUrl,index_col=0)\n",
    "Ans56 = df5.shape\n",
    "print(Ans56)"
   ]
  },
  {
   "cell_type": "code",
   "execution_count": null,
   "metadata": {},
   "outputs": [],
   "source": [
    "# Question 57\n",
    "dic = {\n",
    "    'Unknown' : 'N',\n",
    "    'Less than $40K' : 'a',\n",
    "    '$40K - $60K' : 'b',\n",
    "    '$60K - $80K' : 'c',\n",
    "    '$80K - $120K' : 'd',\n",
    "    '$120K +' : 'e',\n",
    "}\n",
    "df5['newIncome'] = df5['Income_Category'].map(lambda x: dic[x])\n",
    "print(df5['newIncome'])"
   ]
  },
  {
   "cell_type": "code",
   "execution_count": null,
   "metadata": {},
   "outputs": [],
   "source": [
    "# Question 57_1\n",
    "dic = {\n",
    "    'Unknown' : 'N',\n",
    "    'Less than $40K' : 'a',\n",
    "    '$40K - $60K' : 'b',\n",
    "    '$60K - $80K' : 'c',\n",
    "    '$80K - $120K' : 'd',\n",
    "    '$120K +' : 'e',\n",
    "}\n",
    "df5.loc[:,'newIncome'] = df5['Income_Category'].map(dic)\n",
    "print(df5['newIncome'])"
   ]
  },
  {
   "cell_type": "code",
   "execution_count": null,
   "metadata": {},
   "outputs": [],
   "source": [
    "# Question 58\n",
    "def changeCategory(x):\n",
    "    if x == 'Unknown':\n",
    "        return 'N'\n",
    "    elif x == 'Less than $40K':\n",
    "        return 'a'\n",
    "    elif x == '$40K - $60K':\n",
    "        return 'b'\n",
    "    elif x == '$60K - $80K':\n",
    "        return 'c'\n",
    "    elif x == '$80K - $120K':\n",
    "        return 'd'\n",
    "    elif x == '$120K +':\n",
    "        return 'e'\n",
    "\n",
    "df5['newIncome'] = df5['Income_Category'].apply(changeCategory)\n",
    "print(df5['newIncome'])"
   ]
  },
  {
   "cell_type": "code",
   "execution_count": null,
   "metadata": {},
   "outputs": [],
   "source": [
    "# Question 59\n",
    "df5['AgeState']  = df5['Customer_Age'].map(lambda x: x//10 *10)\n",
    "\n",
    "Ans59 = df5['AgeState'].value_counts().sort_index()\n",
    "print(Ans59)"
   ]
  },
  {
   "cell_type": "code",
   "execution_count": null,
   "metadata": {},
   "outputs": [],
   "source": [
    "#Question 59_1\n",
    "df5.loc[:,'AgeState'] = df5['Customer_Age']//10*10\n",
    "Ans59_1 = df5['AgeState'].value_counts().sort_index()\n",
    "print(Ans59_1)"
   ]
  },
  {
   "cell_type": "code",
   "execution_count": null,
   "metadata": {},
   "outputs": [],
   "source": [
    "# Question 60\n",
    "df5.loc[:,'newEduLevel'] = df5['Education_Level'].str.contains('Graduate').map(lambda x: 1 if x else 0)\n",
    "Ans60 = df5['newEduLevel'].value_counts().sort_index()\n",
    "print(Ans60)"
   ]
  },
  {
   "cell_type": "code",
   "execution_count": null,
   "metadata": {},
   "outputs": [],
   "source": [
    "# Question 60_1\n",
    "df5['newEduLevel'] = df5['Education_Level'].map(lambda x : 1 if 'Graduate' in x else 0)\n",
    "Ans60_1 = df5['newEduLevel'].value_counts()\n",
    "print(Ans60_1)"
   ]
  },
  {
   "cell_type": "code",
   "execution_count": null,
   "metadata": {},
   "outputs": [],
   "source": [
    "# Question 61\n",
    "df5.loc[:,'newLimit'] = df5['Credit_Limit'].map(lambda x : 1 if x>=4500 else 0)\n",
    "Ans61 = df5['newLimit'].value_counts()\n",
    "print(Ans61)"
   ]
  },
  {
   "cell_type": "code",
   "execution_count": null,
   "metadata": {},
   "outputs": [],
   "source": [
    "# Question 62\n",
    "def check(x):\n",
    "    if x['Marital_Status'] == 'Married' and x['Card_Category'] == 'Platinum':\n",
    "        return 1\n",
    "    else:\n",
    "        return 0\n",
    "\n",
    "df5['newState'] = df5.apply(check, axis=1)\n",
    "Ans62 = df5['newState'].value_counts()\n",
    "print(Ans62)"
   ]
  },
  {
   "cell_type": "code",
   "execution_count": null,
   "metadata": {},
   "outputs": [],
   "source": [
    "# Question 62_1\n",
    "def check(x):\n",
    "    if x['Marital_Status'] == 'Married' and x['Card_Category'] == 'Platinum':\n",
    "        return 1\n",
    "    else:\n",
    "        return 0\n",
    "\n",
    "df5['newState'] = df5[['Marital_Status', 'Card_Category']].apply(check, axis=1)\n",
    "Ans62_1 = df5['newState'].value_counts()\n",
    "print(Ans62_1)"
   ]
  },
  {
   "cell_type": "code",
   "execution_count": null,
   "metadata": {},
   "outputs": [],
   "source": [
    "# Question 63\n",
    "df5.loc[:,'Gender'] = df5['Gender'].map(lambda x : 'male' if x == 'M' else 'female' if x == 'F' else x)\n",
    "Ans63 = df5['Gender'].value_counts()\n",
    "print(Ans63)\n"
   ]
  },
  {
   "cell_type": "code",
   "execution_count": null,
   "metadata": {},
   "outputs": [],
   "source": [
    "# 05_Time_Series\n",
    "# Question 64\n",
    "DataUrl = 'https://raw.githubusercontent.com/Datamanim/pandas/main/timeTest.csv'\n",
    "df6 = pd.read_csv(DataUrl)\n",
    "df6.info()"
   ]
  },
  {
   "cell_type": "code",
   "execution_count": null,
   "metadata": {},
   "outputs": [],
   "source": [
    "# Question 65\n",
    "df6['Yr_Mo_Dy'] = pd.to_datetime(df6['Yr_Mo_Dy'])\n",
    "Ans65 = df6['Yr_Mo_Dy']\n",
    "print(Ans65)"
   ]
  },
  {
   "cell_type": "code",
   "execution_count": null,
   "metadata": {},
   "outputs": [],
   "source": [
    "# Question 66\n",
    "Ans66 = df6['Yr_Mo_Dy'].dt.year.unique()\n",
    "print(Ans66)"
   ]
  },
  {
   "cell_type": "code",
   "execution_count": null,
   "metadata": {},
   "outputs": [],
   "source": [
    "# Question 67\n",
    "def fix(x):\n",
    "    import datetime\n",
    "    \n",
    "    year = x.year - 100 if x.year >= 2061 else x.year\n",
    "    return pd.to_datetime(datetime.date(year, x.month, x.day))\n",
    "\n",
    "df6['Yr_Mo_Dy'] = df6['Yr_Mo_Dy'].apply(fix)\n",
    "Ans67 = df6.head()\n",
    "print(Ans67)"
   ]
  },
  {
   "cell_type": "code",
   "execution_count": null,
   "metadata": {},
   "outputs": [],
   "source": [
    "# Question 67_1\n",
    "import datetime\n",
    "df6['Yr_Mo_Dy'] = df6['Yr_Mo_Dy'].map(lambda x: pd.to_datetime(datetime.date(x.year - 100 if x.year >= 2061 else x.year, x.month, x.day)))\n",
    "Ans67_1 = df6.head()\n",
    "print(Ans67_1)"
   ]
  },
  {
   "cell_type": "code",
   "execution_count": null,
   "metadata": {},
   "outputs": [],
   "source": [
    "# Question 67_2\n",
    "df6['Yr_Mo_Dy'] = pd.to_datetime(df6['Yr_Mo_Dy'].astype('str').map(lambda x: str(int(x[:4])-100)+x[4:] if x[:4] >= '2061' else x))\n",
    "Ans67_2 = df6.head()\n",
    "print(Ans67_2)"
   ]
  },
  {
   "cell_type": "code",
   "execution_count": null,
   "metadata": {},
   "outputs": [],
   "source": [
    "# Question 68\n",
    "Ans68 = df6.groupby(df6['Yr_Mo_Dy'].dt.year).mean()\n",
    "print(Ans68)"
   ]
  },
  {
   "cell_type": "code",
   "execution_count": null,
   "metadata": {},
   "outputs": [],
   "source": [
    "# Question 69\n",
    "df6.loc[:,'weekday'] = df6['Yr_Mo_Dy'].dt.weekday\n",
    "Ans69 = df6['weekday'].head().to_frame()\n",
    "print(Ans69)"
   ]
  },
  {
   "cell_type": "code",
   "execution_count": null,
   "metadata": {},
   "outputs": [],
   "source": [
    "# Question 70\n",
    "df6.loc[:, 'WeekCheck'] = df6['weekday'].map(lambda x: 1 if x in [5,6] else 0)\n",
    "Ans70 = df6['WeekCheck'].head().to_frame()\n",
    "print(Ans70)"
   ]
  },
  {
   "cell_type": "code",
   "execution_count": null,
   "metadata": {},
   "outputs": [],
   "source": [
    "# Question 71\n",
    "Ans71 = df6.groupby(df6['Yr_Mo_Dy'].dt.month).mean()\n",
    "print(Ans71.head())"
   ]
  },
  {
   "cell_type": "code",
   "execution_count": null,
   "metadata": {},
   "outputs": [],
   "source": [
    "# Question 72\n",
    "print('이전')\n",
    "print(df6.isnull().sum())\n",
    "print('\\n이후')\n",
    "df6 = df6.fillna(method='ffill').fillna(method='bfill')\n",
    "print(df6.isnull().sum())"
   ]
  },
  {
   "cell_type": "code",
   "execution_count": null,
   "metadata": {},
   "outputs": [],
   "source": [
    "# Question 73\n",
    "Ans73 = df6.groupby(df6['Yr_Mo_Dy'].dt.to_period('M')).mean()\n",
    "print(Ans73)"
   ]
  },
  {
   "cell_type": "code",
   "execution_count": null,
   "metadata": {},
   "outputs": [],
   "source": [
    "# Question 73_1\n",
    "Ans73_1 = df6.groupby(df6['Yr_Mo_Dy'].dt.strftime('%Y-%m')).mean()\n",
    "print(Ans73_1)"
   ]
  },
  {
   "cell_type": "code",
   "execution_count": null,
   "metadata": {},
   "outputs": [],
   "source": [
    "# Question 74 *****\n",
    "Ans74 = df6['RPT'].diff()\n",
    "print(Ans74)"
   ]
  },
  {
   "cell_type": "code",
   "execution_count": null,
   "metadata": {},
   "outputs": [],
   "source": [
    "# Question 75 *****\n",
    "Ans75 = df6[['RPT','VAL']].rolling(7).mean()\n",
    "print(Ans75)"
   ]
  },
  {
   "cell_type": "code",
   "execution_count": null,
   "metadata": {},
   "outputs": [],
   "source": [
    "DataUrl = 'https://raw.githubusercontent.com/Datamanim/pandas/main/seoul_pm.csv'\n",
    "df7 = pd.read_csv(DataUrl)"
   ]
  },
  {
   "cell_type": "code",
   "execution_count": null,
   "metadata": {},
   "outputs": [],
   "source": [
    "# Question 76\n",
    "def change_date(x):\n",
    "    import datetime\n",
    "    \n",
    "    hour = x.split(':')[1]\n",
    "    date = x.split(':')[0]\n",
    "    \n",
    "    if hour == '24':\n",
    "        hour = '00:00:00'\n",
    "        return pd.to_datetime(date + \" \" + hour) + datetime.timedelta(days=1)\n",
    "\n",
    "    else:\n",
    "        hour = hour + \":00:00\"\n",
    "        return pd.to_datetime(date + \" \" + hour)\n",
    "\n",
    "\n",
    "df7['datetime'] = df7['(년-월-일:시)'].apply(change_date)\n",
    "\n",
    "print(df7.head(3))"
   ]
  },
  {
   "cell_type": "code",
   "execution_count": null,
   "metadata": {},
   "outputs": [],
   "source": [
    "# Question 76_1\n",
    "def change_date(x):\n",
    "    import datetime\n",
    "    \n",
    "    if x[-2:] != '24':\n",
    "        x = x.replace(':', ' ')\n",
    "        return pd.to_datetime(x)\n",
    "    else:\n",
    "        return pd.to_datetime(x.split(':')[0]) + datetime.timedelta(days=1)\n",
    "\n",
    "df7.loc[:,'datetime'] = df7['(년-월-일:시)'].apply(change_date)\n",
    "\n",
    "print(df7.head())"
   ]
  },
  {
   "cell_type": "code",
   "execution_count": null,
   "metadata": {},
   "outputs": [],
   "source": [
    "# Question 77\n",
    "df7.loc[:, 'dayName'] = df7['datetime'].dt.day_name()\n",
    "Ans77 = df7\n",
    "print(Ans77.head())"
   ]
  },
  {
   "cell_type": "code",
   "execution_count": null,
   "metadata": {},
   "outputs": [],
   "source": [
    "# Question 78\n",
    "Ans78 = df7.groupby(['dayName','PM10등급'], as_index=False).size()\n",
    "Ans78_1 = Ans78.pivot(index='dayName', columns='PM10등급', values='size').fillna(0)\n",
    "\n",
    "print(Ans78.head())\n",
    "print(Ans78_1)"
   ]
  },
  {
   "cell_type": "code",
   "execution_count": null,
   "metadata": {},
   "outputs": [],
   "source": [
    "# Question 78_1\n",
    "Ans78_1 = df7[['datetime','PM10등급']].groupby([df7['datetime'].dt.date, 'PM10등급']).size().unstack().fillna(0).astype('int')\n",
    "\n",
    "print(Ans78_1.head())"
   ]
  },
  {
   "cell_type": "code",
   "execution_count": null,
   "metadata": {},
   "outputs": [],
   "source": [
    "# Question 79\n",
    "Ans79 = df7['datetime'].diff().dropna().unique()\n",
    "print(Ans79)"
   ]
  },
  {
   "cell_type": "code",
   "execution_count": null,
   "metadata": {},
   "outputs": [],
   "source": [
    "# Question 79_1\n",
    "check = len(df7['datetime'].diff().unique())\n",
    "\n",
    "print(True if check==2 else False)"
   ]
  },
  {
   "cell_type": "code",
   "execution_count": null,
   "metadata": {},
   "outputs": [],
   "source": [
    "# Question 80\n",
    "Ans80 = df7.groupby(df7['datetime'].dt.hour)['PM10'].mean().iloc[[10,22]]\n",
    "print(Ans80)"
   ]
  },
  {
   "cell_type": "code",
   "execution_count": null,
   "metadata": {},
   "outputs": [],
   "source": [
    "# Question 81\n",
    "df7.set_index('datetime',inplace=True, drop=True)\n",
    "print(df7.head())"
   ]
  },
  {
   "cell_type": "code",
   "execution_count": null,
   "metadata": {},
   "outputs": [],
   "source": [
    "# Question 82\n"
   ]
  },
  {
   "cell_type": "code",
   "execution_count": null,
   "metadata": {},
   "outputs": [],
   "source": [
    "# 06_Pivot\n",
    "Dataurl = 'https://raw.githubusercontent.com/Datamanim/pandas/main/under5MortalityRate.csv'\n",
    "df8 = pd.read_csv(DataUrl)"
   ]
  },
  {
   "cell_type": "code",
   "execution_count": null,
   "metadata": {},
   "outputs": [],
   "source": [
    "# Question 83\n"
   ]
  },
  {
   "cell_type": "code",
   "execution_count": null,
   "metadata": {},
   "outputs": [],
   "source": [
    "dataUrl ='https://raw.githubusercontent.com/Datamanim/pandas/main/winter.csv'\n",
    "df9 = pd.read_csv(DataUrl)"
   ]
  },
  {
   "cell_type": "code",
   "execution_count": null,
   "metadata": {},
   "outputs": [],
   "source": [
    "# Question 87\n"
   ]
  },
  {
   "cell_type": "code",
   "execution_count": null,
   "metadata": {},
   "outputs": [],
   "source": [
    "# 07_Merge , Concat\n",
    "Dataurl = 'https://raw.githubusercontent.com/Datamanim/pandas/main/mergeTEst.csv'\n",
    "df10 = pd.read_csv(DataUrl)"
   ]
  },
  {
   "cell_type": "code",
   "execution_count": null,
   "metadata": {},
   "outputs": [],
   "source": [
    "# Question 91\n"
   ]
  }
 ],
 "metadata": {
  "kernelspec": {
   "display_name": "Python 3",
   "language": "python",
   "name": "python3"
  },
  "language_info": {
   "codemirror_mode": {
    "name": "ipython",
    "version": 3
   },
   "file_extension": ".py",
   "mimetype": "text/x-python",
   "name": "python",
   "nbconvert_exporter": "python",
   "pygments_lexer": "ipython3",
   "version": "3.12.4"
  }
 },
 "nbformat": 4,
 "nbformat_minor": 2
}
